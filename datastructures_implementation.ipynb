{
 "cells": [
  {
   "cell_type": "code",
   "execution_count": 1,
   "metadata": {},
   "outputs": [],
   "source": [
    "def addition(num1, num2):\n",
    "    total = num1 + num2\n",
    "    print(\"The sum of %d and %d is %d\" % (num1, num2, total))\n"
   ]
  },
  {
   "cell_type": "code",
   "execution_count": 2,
   "metadata": {},
   "outputs": [
    {
     "name": "stdout",
     "output_type": "stream",
     "text": [
      "The sum of 10 and 20 is 30\n"
     ]
    }
   ],
   "source": [
    "addition(10, 20)"
   ]
  },
  {
   "cell_type": "code",
   "execution_count": 3,
   "metadata": {},
   "outputs": [],
   "source": [
    "from queue import Queue\n"
   ]
  },
  {
   "cell_type": "code",
   "execution_count": 4,
   "metadata": {},
   "outputs": [],
   "source": [
    "olympics = Queue(5)"
   ]
  },
  {
   "cell_type": "code",
   "execution_count": 5,
   "metadata": {},
   "outputs": [],
   "source": [
    "olympics.put(\"India\")"
   ]
  },
  {
   "cell_type": "code",
   "execution_count": 6,
   "metadata": {},
   "outputs": [],
   "source": [
    "olympics.put(\"Burundi\")"
   ]
  },
  {
   "cell_type": "code",
   "execution_count": 7,
   "metadata": {},
   "outputs": [],
   "source": [
    "olympics.put(\"China\")"
   ]
  },
  {
   "cell_type": "code",
   "execution_count": 9,
   "metadata": {},
   "outputs": [
    {
     "data": {
      "text/plain": [
       "False"
      ]
     },
     "execution_count": 9,
     "metadata": {},
     "output_type": "execute_result"
    }
   ],
   "source": [
    "olympics.empty()"
   ]
  },
  {
   "cell_type": "code",
   "execution_count": 10,
   "metadata": {},
   "outputs": [
    {
     "data": {
      "text/plain": [
       "False"
      ]
     },
     "execution_count": 10,
     "metadata": {},
     "output_type": "execute_result"
    }
   ],
   "source": [
    "olympics.full()"
   ]
  },
  {
   "cell_type": "code",
   "execution_count": 11,
   "metadata": {},
   "outputs": [
    {
     "data": {
      "text/plain": [
       "'India'"
      ]
     },
     "execution_count": 11,
     "metadata": {},
     "output_type": "execute_result"
    }
   ],
   "source": [
    "olympics.get()"
   ]
  },
  {
   "cell_type": "code",
   "execution_count": 12,
   "metadata": {},
   "outputs": [
    {
     "data": {
      "text/plain": [
       "'Burundi'"
      ]
     },
     "execution_count": 12,
     "metadata": {},
     "output_type": "execute_result"
    }
   ],
   "source": [
    "olympics.get()"
   ]
  },
  {
   "cell_type": "code",
   "execution_count": 14,
   "metadata": {},
   "outputs": [
    {
     "data": {
      "text/plain": [
       "1"
      ]
     },
     "execution_count": 14,
     "metadata": {},
     "output_type": "execute_result"
    }
   ],
   "source": [
    "olympics.qsize()"
   ]
  },
  {
   "cell_type": "code",
   "execution_count": 16,
   "metadata": {},
   "outputs": [],
   "source": [
    "class MyQueue:\n",
    "    def __init__(self):\n",
    "        \"\"\"Create a new queue.  It will be empty to start.\"\"\"\n",
    "        self.items = []\n",
    "    def is_empty(self):\n",
    "        \"\"\"Return True if the queue is empty, False otherwise.\"\"\"\n",
    "        return len(self.items) == 0\n",
    "    \n",
    "    def enqueue(self, item):\n",
    "        \"\"\"Insert item at the end of the queue.\"\"\"\n",
    "        self.items.append(item)\n",
    "        \n",
    "    def dequeue(self):\n",
    "        \"\"\"Remove and return the first item in the queue.\n",
    "        Raise IndexError if the queue is empty.\n",
    "        \"\"\"\n",
    "        if self.is_empty():\n",
    "            raise IndexError(\"The queue is empty.\")\n",
    "        return self.items.pop(0)\n",
    "    \n",
    "    def size(self):\n",
    "        \"\"\"Return the number of items in the queue.\"\"\"\n",
    "        return len(self.items)\n",
    "    \n",
    "    def peek(self):\n",
    "        \"\"\"Return the first item in the queue without removing it.\n",
    "        Raise IndexError if the queue is empty.\n",
    "        \"\"\"\n",
    "        if self.is_empty():\n",
    "            raise IndexError(\"The queue is empty.\")\n",
    "        return self.items[0]"
   ]
  },
  {
   "cell_type": "code",
   "execution_count": 17,
   "metadata": {},
   "outputs": [],
   "source": [
    "olympics = MyQueue()"
   ]
  },
  {
   "cell_type": "code",
   "execution_count": 18,
   "metadata": {},
   "outputs": [],
   "source": [
    "olympics.enqueue(\"India\")"
   ]
  },
  {
   "cell_type": "code",
   "execution_count": 19,
   "metadata": {},
   "outputs": [],
   "source": [
    "olympics.enqueue(\"Burundi\")"
   ]
  },
  {
   "cell_type": "code",
   "execution_count": 20,
   "metadata": {},
   "outputs": [],
   "source": [
    "olympics.enqueue(\"China\")"
   ]
  },
  {
   "cell_type": "code",
   "execution_count": 21,
   "metadata": {},
   "outputs": [
    {
     "data": {
      "text/plain": [
       "3"
      ]
     },
     "execution_count": 21,
     "metadata": {},
     "output_type": "execute_result"
    }
   ],
   "source": [
    "olympics.size()"
   ]
  },
  {
   "cell_type": "code",
   "execution_count": 22,
   "metadata": {},
   "outputs": [
    {
     "data": {
      "text/plain": [
       "False"
      ]
     },
     "execution_count": 22,
     "metadata": {},
     "output_type": "execute_result"
    }
   ],
   "source": [
    "olympics.is_empty()"
   ]
  },
  {
   "cell_type": "code",
   "execution_count": 23,
   "metadata": {},
   "outputs": [
    {
     "data": {
      "text/plain": [
       "'India'"
      ]
     },
     "execution_count": 23,
     "metadata": {},
     "output_type": "execute_result"
    }
   ],
   "source": [
    "olympics.peek()"
   ]
  },
  {
   "cell_type": "code",
   "execution_count": 24,
   "metadata": {},
   "outputs": [
    {
     "name": "stdout",
     "output_type": "stream",
     "text": [
      "['India', 'Burundi', 'China']\n"
     ]
    }
   ],
   "source": [
    "print(olympics.items)"
   ]
  },
  {
   "cell_type": "code",
   "execution_count": 36,
   "metadata": {},
   "outputs": [],
   "source": [
    "def carte_des_cavernes(n, my_string):\n",
    "    nb_ouvertures = 0\n",
    "    for character in my_string:\n",
    "        if character == \"(\":\n",
    "            nb_ouvertures += 1\n",
    "        elif character == \")\":\n",
    "            nb_ouvertures -= 1\n",
    "            if nb_ouvertures < 0:\n",
    "                return False\n",
    "    return nb_ouvertures == 0"
   ]
  },
  {
   "cell_type": "code",
   "execution_count": 37,
   "metadata": {},
   "outputs": [],
   "source": [
    "def main():\n",
    "    number_of_caracters = int(input())\n",
    "    my_string = input()\n",
    "    if carte_des_cavernes(number_of_caracters, my_string):\n",
    "        print(1)\n",
    "    else:\n",
    "        print(0)"
   ]
  },
  {
   "cell_type": "code",
   "execution_count": 39,
   "metadata": {},
   "outputs": [
    {
     "name": "stdout",
     "output_type": "stream",
     "text": [
      "0\n"
     ]
    }
   ],
   "source": [
    "main()"
   ]
  },
  {
   "cell_type": "code",
   "execution_count": 44,
   "metadata": {},
   "outputs": [],
   "source": [
    "def main():\n",
    "    number_of_caracters = int(input())\n",
    "    numeros = [int(n) for n in input().split()]\n",
    "    non_tricheurs = set()\n",
    "    tricheur_found = False\n",
    "    tricheur = 0\n",
    "    for element in numeros:\n",
    "        if element not in non_tricheurs:\n",
    "            non_tricheurs.add(element)\n",
    "        else:\n",
    "            tricheur_found = True\n",
    "            tricheur = element\n",
    "            break\n",
    "    if tricheur_found:\n",
    "        print(tricheur)\n",
    "    else:\n",
    "        print(-1)\n",
    "    "
   ]
  },
  {
   "cell_type": "code",
   "execution_count": 45,
   "metadata": {},
   "outputs": [
    {
     "name": "stdout",
     "output_type": "stream",
     "text": [
      "2\n"
     ]
    }
   ],
   "source": [
    "main()"
   ]
  }
 ],
 "metadata": {
  "kernelspec": {
   "display_name": "base",
   "language": "python",
   "name": "python3"
  },
  "language_info": {
   "codemirror_mode": {
    "name": "ipython",
    "version": 3
   },
   "file_extension": ".py",
   "mimetype": "text/x-python",
   "name": "python",
   "nbconvert_exporter": "python",
   "pygments_lexer": "ipython3",
   "version": "3.9.12 (main, Apr  5 2022, 06:56:58) \n[GCC 7.5.0]"
  },
  "orig_nbformat": 4,
  "vscode": {
   "interpreter": {
    "hash": "fa627aa95c5d5ded4bce5b588d305c10ec2c037f4acd23721bb5551ecd30bdd8"
   }
  }
 },
 "nbformat": 4,
 "nbformat_minor": 2
}
