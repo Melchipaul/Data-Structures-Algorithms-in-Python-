{
 "cells": [
  {
   "cell_type": "code",
   "execution_count": null,
   "metadata": {},
   "outputs": [],
   "source": [
    "def remplir(n, x, y):\n",
    "    if n == 1:\n",
    "        tableau[x][y] = 1\n",
    "        return\n",
    "    remplir(n//2, x, y)\n",
    "    remplir(n//2, x + n//2, y)\n",
    "    remplir(n//2, x, y + n//2)\n",
    "\n",
    "n = int(input())\n",
    "tableau = [[0] * n for _ in range(n)]\n",
    "remplir(n, 0, 0)\n",
    "\n",
    "def main():\n",
    "    for i in range(n):\n",
    "        for j in range(n):\n",
    "            if tableau[i][j] == 1:\n",
    "                print(\"#\", end=\"\")\n",
    "            else:\n",
    "                print(\" \", end=\"\")\n",
    "        print()\n",
    "\n",
    "main()\n",
    "    \n",
    "   "
   ]
  },
  {
   "cell_type": "code",
   "execution_count": 5,
   "metadata": {},
   "outputs": [
    {
     "name": "stdout",
     "output_type": "stream",
     "text": [
      "16\n"
     ]
    }
   ],
   "source": [
    "def main():\n",
    "    k, n = map(int, input().split())\n",
    "    forces = list(map(int, input().split()))\n",
    "    somme_cumul = 0\n",
    "    cumul = [0]\n",
    "    ajout = cumul.append # On crée une référence vers la méthode append de la liste cumul\n",
    "    \n",
    "    for force in forces:\n",
    "        somme_cumul += force\n",
    "        ajout(somme_cumul)\n",
    "    somme_max = max(cumul[i+k] - cumul[i] for i in range(n-k+1))\n",
    "    print(somme_max)\n",
    "\n",
    "main()"
   ]
  },
  {
   "cell_type": "code",
   "execution_count": 1,
   "metadata": {},
   "outputs": [
    {
     "name": "stdout",
     "output_type": "stream",
     "text": [
      "20040916\n"
     ]
    }
   ],
   "source": [
    "import collections, sys\n",
    "\n",
    "def main(input=sys.stdin.readline):\n",
    "    stock = collections.deque()\n",
    "    ajout_droite = stock.append\n",
    "    ajout_gauche = stock.appendleft\n",
    "    extrait_droite = stock.pop\n",
    "    extrait_gauche = stock.popleft\n",
    "\n",
    "    nb_opérations = int(input())\n",
    "    for _ in range(nb_opérations):\n",
    "        quantité, date = map(int, input().split())\n",
    "        if quantité > 0:\n",
    "            ajout_droite((quantité, date))\n",
    "        else:\n",
    "            while quantité < 0:\n",
    "                q, date = extrait_gauche()\n",
    "                quantité += q\n",
    "            if quantité != 0:\n",
    "                ajout_gauche((quantité, date))\n",
    "\n",
    "    _, mini = extrait_droite()\n",
    "    while stock:\n",
    "        _, date = extrait_droite()\n",
    "        if date < mini:\n",
    "            mini = date\n",
    "\n",
    "    print(mini)\n",
    "\n",
    "main()"
   ]
  },
  {
   "cell_type": "code",
   "execution_count": 2,
   "metadata": {},
   "outputs": [
    {
     "ename": "KeyboardInterrupt",
     "evalue": "",
     "output_type": "error",
     "traceback": [
      "\u001b[0;31m---------------------------------------------------------------------------\u001b[0m",
      "\u001b[0;31mKeyboardInterrupt\u001b[0m                         Traceback (most recent call last)",
      "\u001b[0;32m<ipython-input-2-c399d39020bb>\u001b[0m in \u001b[0;36m<module>\u001b[0;34m\u001b[0m\n\u001b[1;32m     14\u001b[0m     \u001b[0;32mfor\u001b[0m \u001b[0mi\u001b[0m \u001b[0;32min\u001b[0m \u001b[0mrange\u001b[0m\u001b[0;34m(\u001b[0m\u001b[0mlen\u001b[0m\u001b[0;34m(\u001b[0m\u001b[0mtab\u001b[0m\u001b[0;34m)\u001b[0m\u001b[0;34m)\u001b[0m\u001b[0;34m:\u001b[0m\u001b[0;34m\u001b[0m\u001b[0;34m\u001b[0m\u001b[0m\n\u001b[1;32m     15\u001b[0m         \u001b[0mprint\u001b[0m \u001b[0;34m(\u001b[0m\u001b[0mtab\u001b[0m\u001b[0;34m[\u001b[0m\u001b[0mi\u001b[0m\u001b[0;34m]\u001b[0m\u001b[0;34m)\u001b[0m\u001b[0;34m\u001b[0m\u001b[0;34m\u001b[0m\u001b[0m\n\u001b[0;32m---> 16\u001b[0;31m \u001b[0mmain\u001b[0m\u001b[0;34m(\u001b[0m\u001b[0;34m)\u001b[0m\u001b[0;34m\u001b[0m\u001b[0;34m\u001b[0m\u001b[0m\n\u001b[0m\u001b[1;32m     17\u001b[0m \u001b[0;34m\u001b[0m\u001b[0m\n\u001b[1;32m     18\u001b[0m \u001b[0;34m\u001b[0m\u001b[0m\n",
      "\u001b[0;32m<ipython-input-2-c399d39020bb>\u001b[0m in \u001b[0;36mmain\u001b[0;34m()\u001b[0m\n\u001b[1;32m      4\u001b[0m     \u001b[0mtab\u001b[0m \u001b[0;34m=\u001b[0m \u001b[0;34m[\u001b[0m\u001b[0;34m]\u001b[0m\u001b[0;34m\u001b[0m\u001b[0;34m\u001b[0m\u001b[0m\n\u001b[1;32m      5\u001b[0m     \u001b[0;32mfor\u001b[0m \u001b[0mi\u001b[0m \u001b[0;32min\u001b[0m \u001b[0mrange\u001b[0m\u001b[0;34m(\u001b[0m\u001b[0mrequetes\u001b[0m\u001b[0;34m)\u001b[0m\u001b[0;34m:\u001b[0m\u001b[0;34m\u001b[0m\u001b[0;34m\u001b[0m\u001b[0m\n\u001b[0;32m----> 6\u001b[0;31m         \u001b[0mrequete\u001b[0m\u001b[0;34m=\u001b[0m\u001b[0msys\u001b[0m\u001b[0;34m.\u001b[0m\u001b[0mstdin\u001b[0m\u001b[0;34m.\u001b[0m\u001b[0mreadline\u001b[0m\u001b[0;34m(\u001b[0m\u001b[0;34m)\u001b[0m\u001b[0;34m\u001b[0m\u001b[0;34m\u001b[0m\u001b[0m\n\u001b[0m\u001b[1;32m      7\u001b[0m         \u001b[0;32mif\u001b[0m \u001b[0mrequete\u001b[0m \u001b[0;34m==\u001b[0m \u001b[0;34m\"Q\\n\"\u001b[0m\u001b[0;34m:\u001b[0m\u001b[0;34m\u001b[0m\u001b[0;34m\u001b[0m\u001b[0m\n\u001b[1;32m      8\u001b[0m             \u001b[0mprint\u001b[0m \u001b[0;34m(\u001b[0m\u001b[0mlen\u001b[0m\u001b[0;34m(\u001b[0m\u001b[0mtab\u001b[0m\u001b[0;34m)\u001b[0m\u001b[0;34m)\u001b[0m\u001b[0;34m\u001b[0m\u001b[0;34m\u001b[0m\u001b[0m\n",
      "\u001b[0;31mKeyboardInterrupt\u001b[0m: "
     ]
    }
   ],
   "source": [
    "def main():\n",
    "    ls = []\n",
    "    for _ in range(int(input())):\n",
    "        s = input()\n",
    "        if s == \"Q\":\n",
    "            print(len(ls))\n",
    "        else:\n",
    "            h = int(s.split()[-1])\n",
    "            for i, n in enumerate(ls):\n",
    "                if h >= n:\n",
    "                    # Affectation par slicing (remplace toutes les valeurs\n",
    "                    # du slice par celles de la nouvelle liste)\n",
    "                    ls[i:] = [h]\n",
    "                    break\n",
    "            else: # if not break:\n",
    "                ls.append(h)\n",
    "        for i in range(len(ls)):\n",
    "            print (ls[i])\n",
    "main()\n",
    "            \n",
    "\n",
    "    "
   ]
  },
  {
   "cell_type": "code",
   "execution_count": 3,
   "metadata": {},
   "outputs": [
    {
     "name": "stdout",
     "output_type": "stream",
     "text": [
      "47\n"
     ]
    }
   ],
   "source": [
    "def main(): \n",
    "    baseDépart, nbChiffres = map(int, input().split())\n",
    "    chiffres = list(map(int, input().split()))\n",
    "    nombre = 0\n",
    "    \n",
    "    for i in range(nbChiffres, 0, -1):\n",
    "        nombre += chiffres[nbChiffres - i] * baseDépart ** (i - 1)\n",
    "    print(nombre)\n",
    "main()\n",
    "        "
   ]
  },
  {
   "cell_type": "code",
   "execution_count": 7,
   "metadata": {},
   "outputs": [
    {
     "name": "stdout",
     "output_type": "stream",
     "text": [
      "2\n",
      "12 34 "
     ]
    }
   ],
   "source": [
    "def main():\n",
    "    entierAConvertir, baseArrivée = map(int, input().split())\n",
    "    chiffres = []\n",
    "    if entierAConvertir == 0:\n",
    "        chiffres.append(0)\n",
    "    while entierAConvertir != 0:\n",
    "        chiffres.append(entierAConvertir % baseArrivée)\n",
    "        entierAConvertir //= baseArrivée\n",
    "    chiffres.reverse()\n",
    "    print(len(chiffres))\n",
    "    for chiffre in chiffres:\n",
    "        print(chiffre, end=\" \")\n",
    "        \n",
    "main()"
   ]
  },
  {
   "cell_type": "code",
   "execution_count": 8,
   "metadata": {},
   "outputs": [
    {
     "name": "stdout",
     "output_type": "stream",
     "text": [
      "1 0 1 0 1 0 \n"
     ]
    }
   ],
   "source": [
    "def lire_base(chiffres: list, base: int) -> int:\n",
    "    \"\"\"Renvoie la valeur du nombre, avec ses 'chiffres' donnés en 'base'.\n",
    "\n",
    "    >>> lire_base([3, 11], 12)\n",
    "    47\n",
    "\n",
    "    \"\"\"\n",
    "    résultat = 0\n",
    "    for chiffre in chiffres:\n",
    "        résultat *= base\n",
    "        résultat += chiffre\n",
    "    return résultat\n",
    "\n",
    "def écrire_base(n: int, base: int) -> None:\n",
    "    \"\"\"Écrit l'entier 'n', dans la 'base'.\n",
    "\n",
    "    >>> écrire_base(1234, 100)\n",
    "    12 34\n",
    "\n",
    "    \"\"\"\n",
    "    chiffres = []\n",
    "    while n > 0:\n",
    "        chiffre = n % base\n",
    "        n = n // base\n",
    "        chiffres.append(chiffre)\n",
    "\n",
    "    if chiffres == []:\n",
    "        print(0) # le chiffre 0\n",
    "    else:\n",
    "        for chiffre in chiffres[::-1]:\n",
    "            print(chiffre, end=\" \")\n",
    "        print()\n",
    "\n",
    "b1, b2, c = map(int, input().split())\n",
    "chiffres = list(map(int, input().split()))\n",
    "écrire_base(lire_base(chiffres, b1), b2)\n",
    "\n",
    "    "
   ]
  },
  {
   "cell_type": "code",
   "execution_count": 10,
   "metadata": {},
   "outputs": [
    {
     "name": "stdout",
     "output_type": "stream",
     "text": [
      "0xb\n"
     ]
    }
   ],
   "source": [
    "def main():\n",
    "    nombre_lignes = int(input(), 16)\n",
    "    nombre_fournis = []\n",
    "    for _ in range(nombre_lignes):\n",
    "        nombre_fournis.append(int(input(), 16))\n",
    "    print(hex(sum(nombre_fournis)//nombre_lignes)[2:].upper())\n",
    "    \n",
    "main()"
   ]
  },
  {
   "cell_type": "code",
   "execution_count": 13,
   "metadata": {},
   "outputs": [
    {
     "name": "stdout",
     "output_type": "stream",
     "text": [
      "4\n"
     ]
    }
   ],
   "source": [
    "def calcul_milieu(a, b):\n",
    "    return (a[0] + b[0]) / 2, (a[1] + b[1]) / 2\n",
    "def check_point_colles(a, b):\n",
    "    return abs(a[0] - b[0]) == 1.0  or abs(a[1] - b[1]) == 0.0000001\n",
    "\n",
    "def main():\n",
    "    n = int(input())\n",
    "    points = []\n",
    "    milieux_bons = set()\n",
    "    for i in range(n):\n",
    "        points.append(tuple(map(float, input().split())))\n",
    "    for i in range(n):\n",
    "        for j in range(i, n - 1):\n",
    "            if not check_point_colles(points[i], points[j + 1]):\n",
    "                milieu = calcul_milieu(points[i], points[j + 1])\n",
    "                if milieu in points:\n",
    "                    milieux_bons.add(milieu)\n",
    "    print(len(milieux_bons))\n",
    "main()"
   ]
  },
  {
   "cell_type": "code",
   "execution_count": 5,
   "metadata": {},
   "outputs": [],
   "source": [
    "def main():\n",
    "    Na = int(input())\n",
    "    niveaux_politions_a = list(map(int, input().split()))\n",
    "    Nb = int(input())\n",
    "    niveaux_politions_b = list(map(int, input().split()))\n",
    "    niveaux_politions_total = niveaux_politions_a + niveaux_politions_b\n",
    "    niveaux_politions_total.sort()\n",
    "    for niveau in niveaux_politions_total:\n",
    "        print(niveau, end=\" \")"
   ]
  },
  {
   "cell_type": "code",
   "execution_count": 6,
   "metadata": {},
   "outputs": [
    {
     "name": "stdout",
     "output_type": "stream",
     "text": [
      "0 2 2 3 3 10 16 17 17 22 "
     ]
    }
   ],
   "source": [
    "main()"
   ]
  },
  {
   "cell_type": "code",
   "execution_count": 7,
   "metadata": {},
   "outputs": [
    {
     "name": "stdout",
     "output_type": "stream",
     "text": [
      "4\n"
     ]
    }
   ],
   "source": [
    "def main():\n",
    "    p= int(input())\n",
    "    list_p = list(map(int, input().split()))\n",
    "    s= int(input())\n",
    "    list_s = list(map(int, input().split()))\n",
    "    intersection_p_s = set(list_p).intersection(set(list_s))\n",
    "    print(len(intersection_p_s))\n",
    "main()"
   ]
  },
  {
   "cell_type": "code",
   "execution_count": 9,
   "metadata": {},
   "outputs": [
    {
     "name": "stdout",
     "output_type": "stream",
     "text": [
      "LETTRES\n"
     ]
    }
   ],
   "source": [
    "def main():\n",
    "    code = {\n",
    "        0: \"A\",\n",
    "        1: \"B\",\n",
    "        2: \"C\",\n",
    "        3: \"D\",\n",
    "        4: \"E\",\n",
    "        5: \"F\",\n",
    "        6: \"G\",\n",
    "        7: \"H\",\n",
    "        8: \"I\",\n",
    "        9: \"J\",\n",
    "        10: \"K\",\n",
    "        11: \"L\",\n",
    "        12: \"M\",\n",
    "        13: \"N\",\n",
    "        14: \"O\",\n",
    "        15: \"P\",\n",
    "        16: \"Q\",\n",
    "        17: \"R\",\n",
    "        18: \"S\",\n",
    "        19: \"T\",\n",
    "        20: \"U\",\n",
    "        21: \"V\",\n",
    "        22: \"W\",\n",
    "        23: \"X\",\n",
    "        24: \"Y\",\n",
    "        25: \"Z\"\n",
    "    }\n",
    "    \n",
    "    n = int(input())\n",
    "    carte= []\n",
    "    lettres_placees = \"\"\n",
    "    for i in range(n):\n",
    "        carte.append(input())\n",
    "    for i in range(n):\n",
    "        for j in range(len(carte[i])):\n",
    "            if carte[i][j] == \"O\":\n",
    "                lettres_placees += code[j]\n",
    "    print(lettres_placees)\n",
    "main()    \n",
    "    "
   ]
  }
 ],
 "metadata": {
  "kernelspec": {
   "display_name": "base",
   "language": "python",
   "name": "python3"
  },
  "language_info": {
   "codemirror_mode": {
    "name": "ipython",
    "version": 3
   },
   "file_extension": ".py",
   "mimetype": "text/x-python",
   "name": "python",
   "nbconvert_exporter": "python",
   "pygments_lexer": "ipython3",
   "version": "3.9.12"
  },
  "orig_nbformat": 4,
  "vscode": {
   "interpreter": {
    "hash": "fa627aa95c5d5ded4bce5b588d305c10ec2c037f4acd23721bb5551ecd30bdd8"
   }
  }
 },
 "nbformat": 4,
 "nbformat_minor": 2
}
