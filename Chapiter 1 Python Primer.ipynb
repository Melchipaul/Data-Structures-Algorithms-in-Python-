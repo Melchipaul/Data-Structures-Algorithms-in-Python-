{
 "cells": [
  {
   "cell_type": "markdown",
   "metadata": {},
   "source": [
    "# Reinforcement"
   ]
  },
  {
   "cell_type": "markdown",
   "metadata": {},
   "source": [
    "## R-1.1"
   ]
  },
  {
   "cell_type": "code",
   "execution_count": null,
   "metadata": {},
   "outputs": [],
   "source": [
    "def is_multiple(n, m):\n",
    "    return n % m == 0"
   ]
  },
  {
   "cell_type": "code",
   "execution_count": null,
   "metadata": {},
   "outputs": [],
   "source": [
    "def main():\n",
    "    print(is_multiple(10, 5))\n",
    "    print(is_multiple(10, 3))\n",
    "    print(is_multiple(10, 2))"
   ]
  },
  {
   "cell_type": "code",
   "execution_count": null,
   "metadata": {},
   "outputs": [],
   "source": [
    "main()"
   ]
  },
  {
   "cell_type": "markdown",
   "metadata": {},
   "source": [
    "## R-1.2"
   ]
  },
  {
   "cell_type": "code",
   "execution_count": null,
   "metadata": {},
   "outputs": [],
   "source": [
    "def is_even(k):\n",
    "    return k & 1 == 0"
   ]
  },
  {
   "cell_type": "code",
   "execution_count": null,
   "metadata": {},
   "outputs": [],
   "source": [
    "def main():\n",
    "    print(is_even(10))\n",
    "    print(is_even(11))"
   ]
  },
  {
   "cell_type": "code",
   "execution_count": null,
   "metadata": {},
   "outputs": [],
   "source": [
    "main()"
   ]
  },
  {
   "cell_type": "markdown",
   "metadata": {},
   "source": [
    "## R-1.3"
   ]
  },
  {
   "cell_type": "code",
   "execution_count": null,
   "metadata": {},
   "outputs": [],
   "source": [
    "def minmax(data):\n",
    "    minimum = data[0]\n",
    "    maximum = data[0]\n",
    "    for i in data:\n",
    "        if i < minimum:\n",
    "            minimum = i\n",
    "        if i > maximum:\n",
    "            maximum = i\n",
    "    return minimum, maximum"
   ]
  },
  {
   "cell_type": "code",
   "execution_count": null,
   "metadata": {},
   "outputs": [],
   "source": [
    "def main():\n",
    "    print(minmax([1, 2, 3, 4, 5]))\n",
    "    print(minmax([1, 2, 3, 4, 5, 6, 7, 8, 9, 10]))\n",
    "    print(minmax([10, 9, 8, 7, 6, 5, 4, 3, 2, 1]))\n",
    "    print(minmax([10, 1, 9, 2, 8, 3, 7, 4, 6, 5]))\n",
    "    "
   ]
  },
  {
   "cell_type": "code",
   "execution_count": null,
   "metadata": {},
   "outputs": [],
   "source": [
    "main()"
   ]
  },
  {
   "cell_type": "markdown",
   "metadata": {},
   "source": [
    "## R-1.4"
   ]
  },
  {
   "cell_type": "code",
   "execution_count": null,
   "metadata": {},
   "outputs": [],
   "source": [
    "def sum_squares(n):\n",
    "    sum_squares = 0\n",
    "    for i in range(1, n+1):\n",
    "        sum_squares += i*i\n",
    "    return sum_squares"
   ]
  },
  {
   "cell_type": "code",
   "execution_count": null,
   "metadata": {},
   "outputs": [],
   "source": [
    "def main():\n",
    "    print(sum_squares(10))\n",
    "    print(sum_squares(100))"
   ]
  },
  {
   "cell_type": "code",
   "execution_count": null,
   "metadata": {},
   "outputs": [],
   "source": [
    "main()"
   ]
  },
  {
   "cell_type": "markdown",
   "metadata": {},
   "source": [
    "## R-1.5"
   ]
  },
  {
   "cell_type": "code",
   "execution_count": null,
   "metadata": {},
   "outputs": [],
   "source": [
    "def sum_squares(n):\n",
    "    return sum(i*i for i in range(1, n+1))"
   ]
  },
  {
   "cell_type": "code",
   "execution_count": null,
   "metadata": {},
   "outputs": [],
   "source": [
    "def main():\n",
    "    print(sum_squares(10))\n",
    "    print(sum_squares(100))"
   ]
  },
  {
   "cell_type": "code",
   "execution_count": null,
   "metadata": {},
   "outputs": [],
   "source": [
    "main()"
   ]
  },
  {
   "cell_type": "markdown",
   "metadata": {},
   "source": [
    "## R-1.6"
   ]
  },
  {
   "cell_type": "code",
   "execution_count": null,
   "metadata": {},
   "outputs": [],
   "source": [
    "def sum_squares_odd(n):\n",
    "    sum_squares_odd = 0\n",
    "    for i in range(1, n+1, 2):\n",
    "        sum_squares_odd += i*i\n",
    "    return sum_squares_odd"
   ]
  },
  {
   "cell_type": "code",
   "execution_count": null,
   "metadata": {},
   "outputs": [],
   "source": [
    "def main():\n",
    "    print(sum_squares_odd(10))\n",
    "    print(sum_squares_odd(100))"
   ]
  },
  {
   "cell_type": "code",
   "execution_count": null,
   "metadata": {},
   "outputs": [],
   "source": [
    "main()"
   ]
  },
  {
   "cell_type": "markdown",
   "metadata": {},
   "source": [
    "## R-1.7"
   ]
  },
  {
   "cell_type": "code",
   "execution_count": null,
   "metadata": {},
   "outputs": [],
   "source": [
    "def sum_squares_odd(n):\n",
    "    return sum(i*i for i in range(1, n+1, 2))\n"
   ]
  },
  {
   "cell_type": "code",
   "execution_count": null,
   "metadata": {},
   "outputs": [],
   "source": [
    "def main():\n",
    "    print(sum_squares_odd(10))\n",
    "    print(sum_squares_odd(100))"
   ]
  },
  {
   "cell_type": "code",
   "execution_count": null,
   "metadata": {},
   "outputs": [],
   "source": [
    "main()"
   ]
  },
  {
   "cell_type": "markdown",
   "metadata": {},
   "source": [
    "## R-1.8"
   ]
  },
  {
   "cell_type": "markdown",
   "metadata": {},
   "source": [
    "### <i>n+k</i>"
   ]
  },
  {
   "cell_type": "markdown",
   "metadata": {},
   "source": [
    "## R-1.9"
   ]
  },
  {
   "cell_type": "markdown",
   "metadata": {},
   "source": [
    "### (50,81,10)"
   ]
  },
  {
   "cell_type": "markdown",
   "metadata": {},
   "source": [
    "## R-1.10"
   ]
  },
  {
   "cell_type": "markdown",
   "metadata": {},
   "source": [
    "### (8,-10,-2)"
   ]
  },
  {
   "cell_type": "markdown",
   "metadata": {},
   "source": [
    "## R-1.11"
   ]
  },
  {
   "cell_type": "code",
   "execution_count": null,
   "metadata": {},
   "outputs": [],
   "source": [
    "my_list = [2 ** i for i in range(9)]\n",
    "print(my_list)"
   ]
  },
  {
   "cell_type": "markdown",
   "metadata": {},
   "source": [
    "## R-1.12"
   ]
  },
  {
   "cell_type": "code",
   "execution_count": null,
   "metadata": {},
   "outputs": [],
   "source": [
    "from random import randrange\n",
    "def choce(data):\n",
    "    return data[randrange(len(data))]"
   ]
  },
  {
   "cell_type": "code",
   "execution_count": null,
   "metadata": {},
   "outputs": [],
   "source": [
    "def main():\n",
    "    print(choce('abcdefg'))\n",
    "    print(choce([1, 2, 3, 4, 5, 6, 7, 8, 9, 10]))\n",
    "    print(choce(['a', 'b', 'c', 'd', 'e', 'f', 'g']))"
   ]
  },
  {
   "cell_type": "code",
   "execution_count": null,
   "metadata": {},
   "outputs": [],
   "source": [
    "main()"
   ]
  },
  {
   "cell_type": "markdown",
   "metadata": {},
   "source": [
    "# Creativity"
   ]
  },
  {
   "cell_type": "markdown",
   "metadata": {},
   "source": [
    "## C-1.13"
   ]
  },
  {
   "cell_type": "code",
   "execution_count": null,
   "metadata": {},
   "outputs": [],
   "source": [
    "def reverse(data):\n",
    "    for index in range(len(data)//2):\n",
    "        data[index], data[-index-1] = data[-index-1], data[index]\n",
    "    return data"
   ]
  },
  {
   "cell_type": "code",
   "execution_count": null,
   "metadata": {},
   "outputs": [],
   "source": [
    "def main():\n",
    "    print(reverse([1, 2, 3, 4, 5, 6, 7, 8, 9, 10]))\n",
    "    print(reverse(['a', 'b', 'c', 'd', 'e', 'f', 'g']))\n",
    "    "
   ]
  },
  {
   "cell_type": "code",
   "execution_count": null,
   "metadata": {},
   "outputs": [],
   "source": [
    "main()"
   ]
  },
  {
   "cell_type": "markdown",
   "metadata": {},
   "source": [
    "## C-1.14"
   ]
  },
  {
   "cell_type": "code",
   "execution_count": null,
   "metadata": {},
   "outputs": [],
   "source": [
    "def product_odd(data):\n",
    "    for i in range(len(data)):\n",
    "        for j in range(i+1, len(data)):\n",
    "            if data[i] * data[j] % 2 == 1:\n",
    "                return True\n",
    "    return False"
   ]
  },
  {
   "cell_type": "code",
   "execution_count": null,
   "metadata": {},
   "outputs": [],
   "source": [
    "def main():\n",
    "    print(product_odd([1, 2, 3, 4, 5, 6, 7, 8, 9, 10]))\n",
    "    print(product_odd([2, 4, 6, 8, 10, 12, 14, 16, 18, 20]))\n",
    "    print(product_odd([1, 3, 5, 7, 9, 11, 13, 15, 17, 19]))"
   ]
  },
  {
   "cell_type": "code",
   "execution_count": null,
   "metadata": {},
   "outputs": [],
   "source": [
    "main()"
   ]
  },
  {
   "cell_type": "markdown",
   "metadata": {},
   "source": [
    "## C-1.15"
   ]
  },
  {
   "cell_type": "code",
   "execution_count": null,
   "metadata": {},
   "outputs": [],
   "source": [
    "def are_distinct(data):\n",
    "    for i in range(len(data)):\n",
    "        for j in range(i+1, len(data)):\n",
    "            if data[i] == data[j]:\n",
    "                return False\n",
    "            \n",
    "    return True"
   ]
  },
  {
   "cell_type": "code",
   "execution_count": null,
   "metadata": {},
   "outputs": [],
   "source": [
    "def main():\n",
    "    print(are_distinct([1, 2, 3, 4, 5, 6, 7, 8, 9, 10]))\n",
    "    print(are_distinct([1, 2, 3, 4, 5, 6, 7, 8, 9, 10, 1]))\n",
    "    print(are_distinct([1, 2, 3, 4, 5, 6, 7, 8, 9, 10, 11]))"
   ]
  },
  {
   "cell_type": "code",
   "execution_count": null,
   "metadata": {},
   "outputs": [],
   "source": [
    "main()"
   ]
  },
  {
   "cell_type": "markdown",
   "metadata": {},
   "source": [
    "## C-1.16"
   ]
  },
  {
   "cell_type": "markdown",
   "metadata": {},
   "source": [
    "### Because data[j] *= factor is equivalent to data[j] = data[j] * factor. Since then, the actual parameter is changed"
   ]
  },
  {
   "cell_type": "markdown",
   "metadata": {},
   "source": [
    "## C-1.17"
   ]
  },
  {
   "cell_type": "code",
   "execution_count": null,
   "metadata": {},
   "outputs": [],
   "source": [
    "def scale(data, factor):\n",
    "    for val in data:\n",
    "        val *= factor"
   ]
  },
  {
   "cell_type": "code",
   "execution_count": null,
   "metadata": {},
   "outputs": [],
   "source": [
    "def main():\n",
    "    data = [1, 2, 3, 4, 5, 6, 7, 8, 9, 10]\n",
    "    scale(data, 2)\n",
    "    print(data)"
   ]
  },
  {
   "cell_type": "code",
   "execution_count": null,
   "metadata": {},
   "outputs": [],
   "source": [
    "main()"
   ]
  },
  {
   "cell_type": "markdown",
   "metadata": {},
   "source": [
    "### It doesn't work because val and value in data have not the same reference "
   ]
  },
  {
   "cell_type": "markdown",
   "metadata": {},
   "source": [
    "## C-1.18"
   ]
  },
  {
   "cell_type": "code",
   "execution_count": null,
   "metadata": {},
   "outputs": [],
   "source": [
    "my_list = [i * (i + 1) for i in range(10)]\n",
    "print(my_list)"
   ]
  },
  {
   "cell_type": "markdown",
   "metadata": {},
   "source": [
    "## C-1.19"
   ]
  },
  {
   "cell_type": "code",
   "execution_count": null,
   "metadata": {},
   "outputs": [],
   "source": [
    "my_list = [chr(i) for i in range(97, 123)]\n",
    "print(my_list)"
   ]
  },
  {
   "cell_type": "markdown",
   "metadata": {},
   "source": [
    "## C-1.20"
   ]
  },
  {
   "cell_type": "code",
   "execution_count": null,
   "metadata": {},
   "outputs": [],
   "source": [
    "from random import randint\n",
    "def shuffle(data):\n",
    "    for i in range(len(data)):\n",
    "        j = randint(0, len(data)-1)\n",
    "        data[i], data[j] = data[j], data[i]\n",
    "    return data\n",
    "\n",
    "def main():\n",
    "    print(shuffle([1, 2, 3, 4, 5, 6, 7, 8, 9, 10]))\n",
    "    print(shuffle(['a', 'b', 'c', 'd', 'e', 'f', 'g']))\n",
    "    "
   ]
  },
  {
   "cell_type": "code",
   "execution_count": null,
   "metadata": {},
   "outputs": [],
   "source": [
    "main()"
   ]
  },
  {
   "cell_type": "markdown",
   "metadata": {},
   "source": [
    "## C-1.21"
   ]
  },
  {
   "cell_type": "code",
   "execution_count": null,
   "metadata": {},
   "outputs": [],
   "source": [
    "def read_lines():\n",
    "    lines = []\n",
    "    while True:\n",
    "        try:\n",
    "            line = input()\n",
    "            lines.append(line)\n",
    "        except EOFError:\n",
    "            break\n",
    "    print('\\n'.join(reversed(lines)))"
   ]
  },
  {
   "cell_type": "code",
   "execution_count": null,
   "metadata": {},
   "outputs": [],
   "source": [
    "def main():\n",
    "    print(read_lines())\n",
    "    "
   ]
  },
  {
   "cell_type": "code",
   "execution_count": null,
   "metadata": {},
   "outputs": [],
   "source": [
    "## main()"
   ]
  },
  {
   "cell_type": "markdown",
   "metadata": {},
   "source": [
    "## C-1.22"
   ]
  },
  {
   "cell_type": "code",
   "execution_count": null,
   "metadata": {},
   "outputs": [],
   "source": [
    "def product_arrays(data1, data2, n):\n",
    "    return [data1[i] * data2[i] for i in range(n)]"
   ]
  },
  {
   "cell_type": "code",
   "execution_count": null,
   "metadata": {},
   "outputs": [],
   "source": [
    "def main():\n",
    "    print(product_arrays([1, 2, 3, 4, 5, 6, 7, 8, 9, 10], [1, 2, 3, 4, 5, 6, 7, 8, 9, 10], 10))"
   ]
  },
  {
   "cell_type": "code",
   "execution_count": null,
   "metadata": {},
   "outputs": [],
   "source": [
    "main()"
   ]
  },
  {
   "cell_type": "markdown",
   "metadata": {},
   "source": [
    "## C-1.23"
   ]
  },
  {
   "cell_type": "code",
   "execution_count": null,
   "metadata": {},
   "outputs": [],
   "source": [
    "def out_of_bounds(data, n):\n",
    "    try:\n",
    "        return data[n]\n",
    "    except IndexError:\n",
    "        return \"Don’t try buffer overflow attacks in Python!\""
   ]
  },
  {
   "cell_type": "code",
   "execution_count": null,
   "metadata": {},
   "outputs": [],
   "source": [
    "def main():\n",
    "    print(out_of_bounds([1, 2, 3, 4, 5, 6, 7, 8, 9, 10], 5))\n",
    "    print(out_of_bounds([1, 2, 3, 4, 5, 6, 7, 8, 9, 10], 15))"
   ]
  },
  {
   "cell_type": "code",
   "execution_count": null,
   "metadata": {},
   "outputs": [],
   "source": [
    "main()"
   ]
  },
  {
   "cell_type": "markdown",
   "metadata": {},
   "source": [
    "## C-1.24"
   ]
  },
  {
   "cell_type": "code",
   "execution_count": null,
   "metadata": {},
   "outputs": [],
   "source": [
    "def vowels_number(data):\n",
    "    return sum(1 for i in data.lower() if i in 'aeiou')"
   ]
  },
  {
   "cell_type": "code",
   "execution_count": null,
   "metadata": {},
   "outputs": [],
   "source": [
    "def main():\n",
    "    print(vowels_number('Aabcdefg'))\n",
    "    print(vowels_number('aeiou'))\n",
    "    print(vowels_number('qwrtypsdfghjklzxcvbnm'))\n",
    "    "
   ]
  },
  {
   "cell_type": "code",
   "execution_count": null,
   "metadata": {},
   "outputs": [],
   "source": [
    "main()"
   ]
  },
  {
   "cell_type": "markdown",
   "metadata": {},
   "source": [
    "## C-1.25"
   ]
  },
  {
   "cell_type": "code",
   "execution_count": null,
   "metadata": {},
   "outputs": [],
   "source": [
    "def punctuation_removed(data):\n",
    "    return ''.join(i for i in data if i not in \".,:;!?'\")"
   ]
  },
  {
   "cell_type": "code",
   "execution_count": null,
   "metadata": {},
   "outputs": [],
   "source": [
    "def main():\n",
    "    print(punctuation_removed('Hello, world!'))\n",
    "    print(punctuation_removed('Hello, world! How are you?'))\n",
    "    print(punctuation_removed('Hello, world! How are you? I am fine.'))\n",
    "    print(punctuation_removed('Hello, world! How are you? I am fine. Thank you.'))\n",
    "    print(punctuation_removed(\"Let's try, Mike.\"))"
   ]
  },
  {
   "cell_type": "code",
   "execution_count": null,
   "metadata": {},
   "outputs": [],
   "source": [
    "main()"
   ]
  },
  {
   "cell_type": "markdown",
   "metadata": {},
   "source": [
    "## C-1.26"
   ]
  },
  {
   "cell_type": "code",
   "execution_count": null,
   "metadata": {},
   "outputs": [],
   "source": [
    "def arithmetic_order(a,b,c):\n",
    "    if a + b == c:\n",
    "        return True\n",
    "    elif a - b == c:\n",
    "        return True\n",
    "    elif a * b == c:\n",
    "        return True\n",
    "    elif a / b == c:\n",
    "        return True\n",
    "    elif a % b == c:\n",
    "        return True\n",
    "    elif a ** b == c:\n",
    "        return True\n",
    "    elif b + c == a:\n",
    "        return True\n",
    "    elif b - c == a:\n",
    "        return True\n",
    "    elif b * c == a:\n",
    "        return True\n",
    "    elif b / c == a:\n",
    "        return True\n",
    "    elif b % c == a:\n",
    "        return True\n",
    "    elif b ** c == a:\n",
    "        return True\n",
    "    elif c + a == b:\n",
    "        return True\n",
    "    elif c - a == b:\n",
    "        return True\n",
    "    elif c * a == b:\n",
    "        return True\n",
    "    elif c / a == b:\n",
    "        return True\n",
    "    elif c % a == b:\n",
    "        return True\n",
    "    elif c ** a == b:\n",
    "        return True\n",
    "    else:\n",
    "        return False  \n",
    "  "
   ]
  },
  {
   "cell_type": "code",
   "execution_count": null,
   "metadata": {},
   "outputs": [],
   "source": [
    "def main():\n",
    "    print(arithmetic_order(1, 2, 3))\n",
    "    print(arithmetic_order(4,12,3))"
   ]
  },
  {
   "cell_type": "code",
   "execution_count": null,
   "metadata": {},
   "outputs": [],
   "source": [
    "main()"
   ]
  },
  {
   "cell_type": "markdown",
   "metadata": {},
   "source": [
    "## C-1.27"
   ]
  },
  {
   "cell_type": "code",
   "execution_count": null,
   "metadata": {},
   "outputs": [],
   "source": [
    "def factors(n):\n",
    "    buffer = []\n",
    "    k = 1\n",
    "    while k * k < n:\n",
    "        if n % k == 0:\n",
    "            buffer.append(k)\n",
    "            buffer.append(n // k)\n",
    "        k += 1\n",
    "    if k * k == n:\n",
    "        yield k\n",
    "        for val in reversed(buffer):\n",
    "            yield val\n",
    "    "
   ]
  },
  {
   "cell_type": "code",
   "execution_count": null,
   "metadata": {},
   "outputs": [],
   "source": [
    "def main():\n",
    "    for i in factors(100):\n",
    "        print(i)\n"
   ]
  },
  {
   "cell_type": "code",
   "execution_count": null,
   "metadata": {},
   "outputs": [],
   "source": [
    "main()"
   ]
  },
  {
   "cell_type": "markdown",
   "metadata": {},
   "source": [
    "## C-1.28"
   ]
  },
  {
   "cell_type": "code",
   "execution_count": null,
   "metadata": {},
   "outputs": [],
   "source": [
    "def norm(v,p):\n",
    "    return (sum(abs(i)**p for i in v))**(1/p)"
   ]
  },
  {
   "cell_type": "code",
   "execution_count": null,
   "metadata": {},
   "outputs": [],
   "source": [
    "def main():\n",
    "    print(norm([4, 3], 2))\n",
    "    print(norm([4, 3], 3))\n",
    "    print(norm([4, 3], 4))\n",
    "    print(norm([4, 3], 5))\n",
    "    print(norm([4, 3], 6))\n",
    "    print(norm([4, 3], 7))\n",
    "    print(norm([4, 3], 8))\n",
    "    print(norm([4, 3], 9))\n",
    "    print(norm([4, 3], 10))\n",
    "    print(norm([4, 3, 7, 8, 14], 2))"
   ]
  },
  {
   "cell_type": "code",
   "execution_count": null,
   "metadata": {},
   "outputs": [],
   "source": [
    "main()"
   ]
  },
  {
   "cell_type": "markdown",
   "metadata": {},
   "source": [
    "# Projects"
   ]
  },
  {
   "cell_type": "markdown",
   "metadata": {},
   "source": [
    "## P-1.29"
   ]
  },
  {
   "cell_type": "code",
   "execution_count": null,
   "metadata": {},
   "outputs": [],
   "source": [
    "def permute(bag, permutation):\n",
    "    if len(bag) == 0:\n",
    "        print(''.join(permutation))\n",
    "    else:\n",
    "        for k in range(len(bag)):\n",
    "            permutation.append(bag.pop(k))\n",
    "            permute(bag, permutation)\n",
    "            bag.insert(k, permutation.pop())\n",
    "            "
   ]
  },
  {
   "cell_type": "code",
   "execution_count": null,
   "metadata": {},
   "outputs": [],
   "source": [
    "def main():\n",
    "    permute(list('abc'), [])\n",
    "    permute(list('catdog'), [])"
   ]
  },
  {
   "cell_type": "code",
   "execution_count": null,
   "metadata": {},
   "outputs": [],
   "source": [
    "main()"
   ]
  },
  {
   "cell_type": "markdown",
   "metadata": {},
   "source": [
    "## P-1.30"
   ]
  },
  {
   "cell_type": "code",
   "execution_count": null,
   "metadata": {},
   "outputs": [],
   "source": [
    "def repeat_divide_by_two(n):\n",
    "    number_of_repeats = 0\n",
    "    while n > 2:\n",
    "        n = n / 2\n",
    "        number_of_repeats += 1\n",
    "    return number_of_repeats"
   ]
  },
  {
   "cell_type": "code",
   "execution_count": null,
   "metadata": {},
   "outputs": [],
   "source": [
    "def main():\n",
    "    print(repeat_divide_by_two(100))\n",
    "    print(repeat_divide_by_two(1000))\n",
    "    print(repeat_divide_by_two(2))\n",
    "    print(repeat_divide_by_two(1))\n",
    "    print(repeat_divide_by_two(7))\n",
    "    print(repeat_divide_by_two(15))"
   ]
  },
  {
   "cell_type": "code",
   "execution_count": null,
   "metadata": {},
   "outputs": [],
   "source": [
    "main()"
   ]
  },
  {
   "cell_type": "markdown",
   "metadata": {},
   "source": [
    "## P-1.31"
   ]
  },
  {
   "cell_type": "code",
   "execution_count": null,
   "metadata": {},
   "outputs": [],
   "source": [
    "def make_change(mount_charged, mount_paid):\n",
    "    change = mount_paid - mount_charged\n",
    "    if change < 0:\n",
    "        return \"You didn’t pay enough!\"\n",
    "    elif change == 0:\n",
    "        return \"No change!\"\n",
    "    else:\n",
    "        return bill_and_coins(change)\n",
    "    \n",
    "def bill_and_coins(change):\n",
    "    bills = [100, 50, 20, 10, 5, 1]\n",
    "    coins = [0.25, 0.10, 0.05, 0.01]\n",
    "    change_bills = []\n",
    "    change_coins = []\n",
    "    for i in bills:\n",
    "        if change >= i:\n",
    "            change_bills.append(i)\n",
    "            change = change - i\n",
    "    for i in coins:\n",
    "        if change >= i:\n",
    "            change_coins.append(i)\n",
    "            change = change - i\n",
    "    return change_bills, change_coins"
   ]
  },
  {
   "cell_type": "code",
   "execution_count": null,
   "metadata": {},
   "outputs": [],
   "source": [
    "def main():\n",
    "    print(make_change(100, 100))\n",
    "    print(make_change(100, 101))\n",
    "    print(make_change(100, 150))\n",
    "    print(make_change(100, 200))\n",
    "    print(make_change(100, 313.45))"
   ]
  },
  {
   "cell_type": "code",
   "execution_count": null,
   "metadata": {},
   "outputs": [],
   "source": [
    "main()"
   ]
  },
  {
   "cell_type": "markdown",
   "metadata": {},
   "source": [
    "## P-1.32"
   ]
  },
  {
   "cell_type": "code",
   "execution_count": null,
   "metadata": {},
   "outputs": [],
   "source": [
    "def calculator(a, b, operation):\n",
    "    if operation == '+':\n",
    "        return a + b\n",
    "    elif operation == '-':\n",
    "        return a - b\n",
    "    elif operation == '*':\n",
    "        return a * b\n",
    "    elif operation == '/':\n",
    "        return a / b\n",
    "    elif operation == '%':\n",
    "        return a % b\n",
    "    elif operation == '**':\n",
    "        return a ** b\n",
    "    else:\n",
    "        return \"Invalid operation!\"\n",
    "def main():\n",
    "    first_operand = int(input(\"Enter the first operand: \"))\n",
    "    second_operand = int(input(\"Enter the second operand: \"))\n",
    "    operation = input(\"Enter the operation: \")\n",
    "    print(calculator(first_operand, second_operand, operation))"
   ]
  },
  {
   "cell_type": "code",
   "execution_count": null,
   "metadata": {},
   "outputs": [],
   "source": [
    "main()"
   ]
  },
  {
   "cell_type": "markdown",
   "metadata": {},
   "source": [
    "## P-1.33"
   ]
  },
  {
   "cell_type": "code",
   "execution_count": null,
   "metadata": {},
   "outputs": [],
   "source": [
    "def handled_calculator(a, b, operation):\n",
    "    try:\n",
    "        if operation == '+':\n",
    "            return a + b\n",
    "        elif operation == '-':\n",
    "            return a - b\n",
    "        elif operation == '*':\n",
    "            return a * b\n",
    "        elif operation == '/':\n",
    "            return a / b\n",
    "        elif operation == '%':\n",
    "            return a % b\n",
    "        elif operation == '**':\n",
    "            return a ** b\n",
    "        else:\n",
    "            return \"Invalid operation!\"\n",
    "    except ZeroDivisionError:\n",
    "        return \"You can't divide by zero!\"\n",
    "    except TypeError:\n",
    "        return \"You can't add strings!\""
   ]
  },
  {
   "cell_type": "code",
   "execution_count": null,
   "metadata": {},
   "outputs": [],
   "source": [
    "def main():\n",
    "    while True:\n",
    "        first_operand = input(\"Enter the first operand: \")\n",
    "        if first_operand == 'q':\n",
    "            break\n",
    "        second_operand = input(\"Enter the second operand: \")\n",
    "        if second_operand == 'q':\n",
    "            break\n",
    "        operation = input(\"Enter the operation: \")\n",
    "        if operation == 'q':\n",
    "            break\n",
    "        print(handled_calculator(first_operand, second_operand, operation))"
   ]
  },
  {
   "cell_type": "code",
   "execution_count": null,
   "metadata": {},
   "outputs": [],
   "source": [
    "main()"
   ]
  },
  {
   "cell_type": "markdown",
   "metadata": {},
   "source": [
    "## P-1.34"
   ]
  },
  {
   "cell_type": "code",
   "execution_count": null,
   "metadata": {},
   "outputs": [],
   "source": [
    "from random import randint\n",
    "def punishment_eight_times_with_typos():\n",
    "    for i in range(100):\n",
    "        my_string = \"I will never spam my friends again.\"\n",
    "        for j in range(8):\n",
    "            position = randint(0, len(my_string) - 1)\n",
    "            my_string = my_string[:position] + my_string[position + 1:]\n",
    "        print(str(i+1)+ \" \" + my_string)\n",
    "    \n",
    "    "
   ]
  },
  {
   "cell_type": "code",
   "execution_count": null,
   "metadata": {},
   "outputs": [],
   "source": [
    "def main():\n",
    "    punishment_eight_times_with_typos()"
   ]
  },
  {
   "cell_type": "code",
   "execution_count": null,
   "metadata": {},
   "outputs": [],
   "source": [
    "main()"
   ]
  },
  {
   "cell_type": "markdown",
   "metadata": {},
   "source": [
    "## P-1.35"
   ]
  },
  {
   "cell_type": "code",
   "execution_count": null,
   "metadata": {},
   "outputs": [],
   "source": [
    "def birthday_paradox(n):\n",
    "    for i in range(1, n):\n",
    "        probability = 1\n",
    "        for j in range(1, i):\n",
    "            probability = probability * (365 - j) / 365\n",
    "        print(\"For\", i, \"people, the probability of a shared birthday is\", 1 - probability)"
   ]
  },
  {
   "cell_type": "markdown",
   "metadata": {},
   "source": [
    "## To continue"
   ]
  },
  {
   "cell_type": "markdown",
   "metadata": {},
   "source": [
    "## P-1.36"
   ]
  },
  {
   "cell_type": "code",
   "execution_count": null,
   "metadata": {},
   "outputs": [],
   "source": [
    "def occurencies():\n",
    "    words = input(\"Enter a sentence: \").split()\n",
    "    occurencies = {}\n",
    "    for word in words:\n",
    "        if word in occurencies:\n",
    "            occurencies[word] += 1\n",
    "        else:\n",
    "            occurencies[word] = 1\n",
    "    return occurencies"
   ]
  },
  {
   "cell_type": "code",
   "execution_count": null,
   "metadata": {},
   "outputs": [],
   "source": [
    "def main():\n",
    "    print(occurencies())\n",
    "    birthday_paradox(50)"
   ]
  },
  {
   "cell_type": "code",
   "execution_count": null,
   "metadata": {},
   "outputs": [],
   "source": [
    "main()"
   ]
  }
 ],
 "metadata": {
  "kernelspec": {
   "display_name": "Python 3.8.10 64-bit",
   "language": "python",
   "name": "python3"
  },
  "language_info": {
   "codemirror_mode": {
    "name": "ipython",
    "version": 3
   },
   "file_extension": ".py",
   "mimetype": "text/x-python",
   "name": "python",
   "nbconvert_exporter": "python",
   "pygments_lexer": "ipython3",
   "version": "3.8.10 (default, Mar 15 2022, 12:22:08) \n[GCC 9.4.0]"
  },
  "orig_nbformat": 4,
  "vscode": {
   "interpreter": {
    "hash": "916dbcbb3f70747c44a77c7bcd40155683ae19c65e1c03b4aa3499c5328201f1"
   }
  }
 },
 "nbformat": 4,
 "nbformat_minor": 2
}
