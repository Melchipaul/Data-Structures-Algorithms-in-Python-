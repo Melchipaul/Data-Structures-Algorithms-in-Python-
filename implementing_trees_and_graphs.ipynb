{
 "cells": [
  {
   "attachments": {},
   "cell_type": "markdown",
   "metadata": {},
   "source": [
    "## Binary search"
   ]
  },
  {
   "cell_type": "code",
   "execution_count": 1,
   "metadata": {},
   "outputs": [],
   "source": [
    "def binary_search(sorted_list, key):\n",
    "    min_index = 0\n",
    "    max_index = len(sorted_list) - 1\n",
    "    \n",
    "    while min_index <= max_index:\n",
    "        mid = (min_index + max_index) // 2\n",
    "        \n",
    "        if sorted_list[mid] == key:\n",
    "            return mid\n",
    "        elif sorted_list[mid] < key:\n",
    "            min_index = mid + 1\n",
    "        else:\n",
    "            max_index = mid - 1\n",
    "    return -1"
   ]
  },
  {
   "cell_type": "code",
   "execution_count": 2,
   "metadata": {},
   "outputs": [
    {
     "name": "stdout",
     "output_type": "stream",
     "text": [
      "4\n"
     ]
    }
   ],
   "source": [
    "my_list = [2,4,5,6,8,17,20,25]\n",
    "key = 8\n",
    "print(binary_search(my_list, key))"
   ]
  },
  {
   "cell_type": "code",
   "execution_count": 3,
   "metadata": {},
   "outputs": [
    {
     "name": "stdout",
     "output_type": "stream",
     "text": [
      "-1\n"
     ]
    }
   ],
   "source": [
    "key = 26\n",
    "print(binary_search(my_list, key))"
   ]
  },
  {
   "cell_type": "code",
   "execution_count": 4,
   "metadata": {},
   "outputs": [],
   "source": [
    "class Node:\n",
    "    def __init__(self, data):\n",
    "        self.data = data\n",
    "        self.left = None\n",
    "        self.right = None\n",
    "    \n",
    "    def get_left_child(self):\n",
    "        return self.left\n",
    "    \n",
    "    def get_right_child(self):\n",
    "        return self.right\n",
    "    \n",
    "    def set_left_child(self, left):\n",
    "        self.left = left\n",
    "        \n",
    "    def set_right_child(self, right):\n",
    "        self.right = right\n",
    "        \n",
    "    def get_value(self):\n",
    "        return self.data\n",
    "    \n",
    "    def set_value(self, data):\n",
    "        self.data = data\n",
    "        \n",
    "    def print_tree(self):\n",
    "        if self.left:\n",
    "            self.left.print_tree()\n",
    "        print(self.data)\n",
    "        \n",
    "        if self.right:\n",
    "            self.right.print_tree()\n",
    "        "
   ]
  },
  {
   "cell_type": "code",
   "execution_count": 5,
   "metadata": {},
   "outputs": [],
   "source": [
    "def insert(head, node):\n",
    "    if head == None:\n",
    "        return node\n",
    "    \n",
    "    if node.get_value() <= head.get_value():\n",
    "        head.set_left_child(insert(head.get_left_child(), node))\n",
    "    else:\n",
    "        head.set_right_child(insert(head.get_right_child(), node))\n",
    "        \n",
    "    return head"
   ]
  },
  {
   "cell_type": "code",
   "execution_count": 6,
   "metadata": {},
   "outputs": [],
   "source": [
    "A = Node(45)\n",
    "B = Node(2)\n",
    "C = Node(33)\n",
    "D = Node(54)\n",
    "E = Node(25)\n",
    "F = Node(68)\n",
    "G = Node(72)\n",
    "H = Node(81)\n",
    "I = Node(23)\n"
   ]
  },
  {
   "cell_type": "code",
   "execution_count": 7,
   "metadata": {},
   "outputs": [],
   "source": [
    "head = insert(None, E)"
   ]
  },
  {
   "cell_type": "code",
   "execution_count": 8,
   "metadata": {},
   "outputs": [
    {
     "name": "stdout",
     "output_type": "stream",
     "text": [
      "25\n"
     ]
    }
   ],
   "source": [
    "head.print_tree()"
   ]
  },
  {
   "cell_type": "code",
   "execution_count": 9,
   "metadata": {},
   "outputs": [
    {
     "data": {
      "text/plain": [
       "<__main__.Node at 0x7f72ad7db490>"
      ]
     },
     "execution_count": 9,
     "metadata": {},
     "output_type": "execute_result"
    }
   ],
   "source": [
    "insert(head, B)"
   ]
  },
  {
   "cell_type": "code",
   "execution_count": 10,
   "metadata": {},
   "outputs": [
    {
     "name": "stdout",
     "output_type": "stream",
     "text": [
      "2\n",
      "25\n"
     ]
    }
   ],
   "source": [
    "head.print_tree()"
   ]
  },
  {
   "cell_type": "code",
   "execution_count": 11,
   "metadata": {},
   "outputs": [
    {
     "data": {
      "text/plain": [
       "<__main__.Node at 0x7f72ad7db490>"
      ]
     },
     "execution_count": 11,
     "metadata": {},
     "output_type": "execute_result"
    }
   ],
   "source": [
    "insert(head, C)\n",
    "insert(head, D)\n",
    "insert(head, A)\n",
    "insert(head, F)\n",
    "insert(head, G)\n",
    "insert(head, H)\n",
    "insert(head, I)"
   ]
  },
  {
   "cell_type": "code",
   "execution_count": 12,
   "metadata": {},
   "outputs": [
    {
     "name": "stdout",
     "output_type": "stream",
     "text": [
      "2\n",
      "23\n",
      "25\n",
      "33\n",
      "45\n",
      "54\n",
      "68\n",
      "72\n",
      "81\n"
     ]
    }
   ],
   "source": [
    "head.print_tree()"
   ]
  },
  {
   "cell_type": "code",
   "execution_count": 13,
   "metadata": {},
   "outputs": [],
   "source": [
    "def lookup(head, data):\n",
    "    if head == None:\n",
    "        return print(\"Value not found\")\n",
    "    if head.get_value() == data:\n",
    "        return head\n",
    "    elif data <= head.get_value():\n",
    "        return lookup(head.get_left_child(), data)\n",
    "    else:\n",
    "        return lookup(head.get_right_child(), data)"
   ]
  },
  {
   "cell_type": "code",
   "execution_count": 14,
   "metadata": {},
   "outputs": [],
   "source": [
    "def print_node(node):\n",
    "    if node != None:\n",
    "        print(node.get_value())\n",
    "    else:\n",
    "        print(\"Value not found\")"
   ]
  },
  {
   "cell_type": "code",
   "execution_count": 15,
   "metadata": {},
   "outputs": [
    {
     "name": "stdout",
     "output_type": "stream",
     "text": [
      "Value not found\n",
      "Value not found\n"
     ]
    }
   ],
   "source": [
    "print_node(lookup(head, 100))"
   ]
  },
  {
   "cell_type": "code",
   "execution_count": 16,
   "metadata": {},
   "outputs": [],
   "source": [
    "def min_value(head):\n",
    "    current = head\n",
    "    while current.get_left_child() != None:\n",
    "        current = current.get_left_child()\n",
    "    return current.get_value()"
   ]
  },
  {
   "cell_type": "code",
   "execution_count": 17,
   "metadata": {},
   "outputs": [],
   "source": [
    "def max_value(head):\n",
    "    current = head\n",
    "    while current.get_right_child() != None:\n",
    "        current = current.get_right_child()\n",
    "    return current.get_value()"
   ]
  },
  {
   "cell_type": "code",
   "execution_count": 18,
   "metadata": {},
   "outputs": [
    {
     "name": "stdout",
     "output_type": "stream",
     "text": [
      "2\n",
      "81\n"
     ]
    }
   ],
   "source": [
    "print(min_value(head))\n",
    "print(max_value(head))"
   ]
  },
  {
   "cell_type": "code",
   "execution_count": 19,
   "metadata": {},
   "outputs": [],
   "source": [
    "class MyQueue:\n",
    "    def __init__(self):\n",
    "        \n",
    "        \"\"\" Create a new queue.\"\"\"\n",
    "        self.items = []\n",
    "        \n",
    "    def is_empty(self):\n",
    "        \n",
    "        \"\"\" Return True if the queue is empty, False otherwise.\"\"\"\n",
    "        return len(self.items) == 0\n",
    "    \n",
    "    def enqueue(self, item):\n",
    "        \n",
    "        \"\"\" Add item to the queue.\"\"\"\n",
    "        self.items.append(item)\n",
    "        \n",
    "    def dequeue(self):\n",
    "        \n",
    "        \"\"\" Remove and return the first item in the queue.\n",
    "        \n",
    "        Raise IndexError if the queue is empty.\n",
    "        \"\"\"\n",
    "        if self.is_empty():\n",
    "            raise IndexError(\"The queue is empty\")\n",
    "        return self.items.pop(0)\n",
    "    def size(self):\n",
    "        \n",
    "        \"\"\" Return the number of items in the queue.\"\"\"\n",
    "        return len(self.items)\n",
    "    \n",
    "    def peek(self):\n",
    "        \n",
    "        \"\"\" Return the first item in the queue without removing it.\n",
    "        \n",
    "        Raise IndexError if the queue is empty.\n",
    "        \"\"\"\n",
    "        if self.is_empty():\n",
    "            raise IndexError(\"The queue is empty\")\n",
    "        return self.items[0]\n",
    "    \n",
    "    "
   ]
  },
  {
   "cell_type": "code",
   "execution_count": 20,
   "metadata": {},
   "outputs": [],
   "source": [
    "def breadth_first(node):\n",
    "    if  node == None:\n",
    "        raise Exception(\"No root found!\")\n",
    "    \n",
    "    path = []\n",
    "    queue = MyQueue()\n",
    "    queue.enqueue(node)\n",
    "    \n",
    "    while queue.size() > 0:\n",
    "        current = queue.dequeue()\n",
    "        \n",
    "        path.append(current.data)\n",
    "        \n",
    "        if current.get_left_child() != None:\n",
    "            queue.enqueue(current.get_left_child())\n",
    "        if current.get_right_child() != None:\n",
    "            queue.enqueue(current.get_right_child())\n",
    "\n",
    "    return path\n",
    "\n"
   ]
  },
  {
   "cell_type": "code",
   "execution_count": 21,
   "metadata": {},
   "outputs": [
    {
     "data": {
      "text/plain": [
       "[25, 2, 33, 23, 54, 45, 68, 72, 81]"
      ]
     },
     "execution_count": 21,
     "metadata": {},
     "output_type": "execute_result"
    }
   ],
   "source": [
    "breadth_first(E)"
   ]
  },
  {
   "cell_type": "code",
   "execution_count": 22,
   "metadata": {},
   "outputs": [],
   "source": [
    "def pre_order(node):\n",
    "    path = []\n",
    "    \n",
    "    if node:\n",
    "        path.append(node.data)\n",
    "        path = path + pre_order(node.get_left_child())\n",
    "        path = path + pre_order(node.get_right_child())\n",
    "    return path"
   ]
  },
  {
   "cell_type": "code",
   "execution_count": 23,
   "metadata": {},
   "outputs": [
    {
     "data": {
      "text/plain": [
       "[25, 2, 23, 33, 54, 45, 68, 72, 81]"
      ]
     },
     "execution_count": 23,
     "metadata": {},
     "output_type": "execute_result"
    }
   ],
   "source": [
    "pre_order(E)"
   ]
  },
  {
   "cell_type": "code",
   "execution_count": 24,
   "metadata": {},
   "outputs": [],
   "source": [
    "def in_order(node):\n",
    "    path = []\n",
    "    \n",
    "    if node:\n",
    "        path = path + in_order(node.get_left_child())\n",
    "        path.append(node.data)\n",
    "        path = path + in_order(node.get_right_child())\n",
    "    return path"
   ]
  },
  {
   "cell_type": "code",
   "execution_count": 25,
   "metadata": {},
   "outputs": [
    {
     "data": {
      "text/plain": [
       "[2, 23, 25, 33, 45, 54, 68, 72, 81]"
      ]
     },
     "execution_count": 25,
     "metadata": {},
     "output_type": "execute_result"
    }
   ],
   "source": [
    "in_order(E)"
   ]
  },
  {
   "cell_type": "code",
   "execution_count": 26,
   "metadata": {},
   "outputs": [],
   "source": [
    "def post_order(node):\n",
    "    path = []\n",
    "    \n",
    "    if node:\n",
    "        path = path + post_order(node.get_left_child())\n",
    "        path = path + post_order(node.get_right_child())\n",
    "        path.append(node.data)\n",
    "    return path"
   ]
  },
  {
   "cell_type": "code",
   "execution_count": 27,
   "metadata": {},
   "outputs": [
    {
     "data": {
      "text/plain": [
       "[23, 2, 45, 81, 72, 68, 54, 33, 25]"
      ]
     },
     "execution_count": 27,
     "metadata": {},
     "output_type": "execute_result"
    }
   ],
   "source": [
    "post_order(E)"
   ]
  }
 ],
 "metadata": {
  "kernelspec": {
   "display_name": "base",
   "language": "python",
   "name": "python3"
  },
  "language_info": {
   "codemirror_mode": {
    "name": "ipython",
    "version": 3
   },
   "file_extension": ".py",
   "mimetype": "text/x-python",
   "name": "python",
   "nbconvert_exporter": "python",
   "pygments_lexer": "ipython3",
   "version": "3.9.12"
  },
  "orig_nbformat": 4,
  "vscode": {
   "interpreter": {
    "hash": "fa627aa95c5d5ded4bce5b588d305c10ec2c037f4acd23721bb5551ecd30bdd8"
   }
  }
 },
 "nbformat": 4,
 "nbformat_minor": 2
}
