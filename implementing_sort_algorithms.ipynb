{
 "cells": [
  {
   "attachments": {},
   "cell_type": "markdown",
   "metadata": {},
   "source": [
    "## Selection sort"
   ]
  },
  {
   "cell_type": "code",
   "execution_count": 4,
   "metadata": {},
   "outputs": [],
   "source": [
    "def print_list(num_list):\n",
    "    print(num_list)"
   ]
  },
  {
   "cell_type": "code",
   "execution_count": 5,
   "metadata": {},
   "outputs": [],
   "source": [
    "def selection_sort(original_list):\n",
    "    \n",
    "    length = len(original_list)\n",
    "    \n",
    "    for i in range(length):\n",
    "        min_value_index = i\n",
    "        for j in range(i+1, length):\n",
    "            if original_list[min_value_index] > original_list[j]:\n",
    "                min_value_index = j\n",
    "        original_list[i], original_list[min_value_index] = original_list[min_value_index], original_list[i]\n",
    "        \n",
    "        print('Sorted till index', i)\n",
    "        \n",
    "        print_list(original_list)\n",
    "    print('Sorted list:')\n",
    "    print_list(original_list)"
   ]
  },
  {
   "cell_type": "code",
   "execution_count": 6,
   "metadata": {},
   "outputs": [],
   "source": [
    "num_list = [10, 11, 5, 7, 2, 8, 3, 9, 6,1, 4]"
   ]
  },
  {
   "cell_type": "code",
   "execution_count": 7,
   "metadata": {},
   "outputs": [
    {
     "name": "stdout",
     "output_type": "stream",
     "text": [
      "Sorted till index 0\n",
      "[1, 11, 5, 7, 2, 8, 3, 9, 6, 10, 4]\n",
      "Sorted till index 1\n",
      "[1, 2, 5, 7, 11, 8, 3, 9, 6, 10, 4]\n",
      "Sorted till index 2\n",
      "[1, 2, 3, 7, 11, 8, 5, 9, 6, 10, 4]\n",
      "Sorted till index 3\n",
      "[1, 2, 3, 4, 11, 8, 5, 9, 6, 10, 7]\n",
      "Sorted till index 4\n",
      "[1, 2, 3, 4, 5, 8, 11, 9, 6, 10, 7]\n",
      "Sorted till index 5\n",
      "[1, 2, 3, 4, 5, 6, 11, 9, 8, 10, 7]\n",
      "Sorted till index 6\n",
      "[1, 2, 3, 4, 5, 6, 7, 9, 8, 10, 11]\n",
      "Sorted till index 7\n",
      "[1, 2, 3, 4, 5, 6, 7, 8, 9, 10, 11]\n",
      "Sorted till index 8\n",
      "[1, 2, 3, 4, 5, 6, 7, 8, 9, 10, 11]\n",
      "Sorted till index 9\n",
      "[1, 2, 3, 4, 5, 6, 7, 8, 9, 10, 11]\n",
      "Sorted till index 10\n",
      "[1, 2, 3, 4, 5, 6, 7, 8, 9, 10, 11]\n",
      "Sorted list:\n",
      "[1, 2, 3, 4, 5, 6, 7, 8, 9, 10, 11]\n"
     ]
    }
   ],
   "source": [
    "selection_sort(num_list)"
   ]
  },
  {
   "cell_type": "code",
   "execution_count": 8,
   "metadata": {},
   "outputs": [],
   "source": [
    "animals_list = ['Lion', 'Giraffe', 'Elephant', 'Monkey', 'Cheetah']"
   ]
  },
  {
   "cell_type": "code",
   "execution_count": 9,
   "metadata": {},
   "outputs": [
    {
     "name": "stdout",
     "output_type": "stream",
     "text": [
      "Sorted till index 0\n",
      "['Cheetah', 'Giraffe', 'Elephant', 'Monkey', 'Lion']\n",
      "Sorted till index 1\n",
      "['Cheetah', 'Elephant', 'Giraffe', 'Monkey', 'Lion']\n",
      "Sorted till index 2\n",
      "['Cheetah', 'Elephant', 'Giraffe', 'Monkey', 'Lion']\n",
      "Sorted till index 3\n",
      "['Cheetah', 'Elephant', 'Giraffe', 'Lion', 'Monkey']\n",
      "Sorted till index 4\n",
      "['Cheetah', 'Elephant', 'Giraffe', 'Lion', 'Monkey']\n",
      "Sorted list:\n",
      "['Cheetah', 'Elephant', 'Giraffe', 'Lion', 'Monkey']\n"
     ]
    }
   ],
   "source": [
    "selection_sort(animals_list)"
   ]
  },
  {
   "attachments": {},
   "cell_type": "markdown",
   "metadata": {},
   "source": [
    "## Bubble sort"
   ]
  },
  {
   "cell_type": "code",
   "execution_count": 10,
   "metadata": {},
   "outputs": [],
   "source": [
    "def bubble_sort(original_list):\n",
    "    length = len(original_list)\n",
    "    for i in range(length-1, 0,-1):\n",
    "        for index in range(i):\n",
    "            if original_list[index] > original_list[index+1]:\n",
    "                original_list[index +1], original_list[index] = original_list[index], original_list[index + 1]\n",
    "        print('Unsorted till index', i - 1)\n",
    "        print_list(original_list)\n",
    "        "
   ]
  },
  {
   "cell_type": "code",
   "execution_count": 11,
   "metadata": {},
   "outputs": [],
   "source": [
    "num_list = [10, 11, 5, 7, 2, 8, 3, 9, 6,1, 4]"
   ]
  },
  {
   "cell_type": "code",
   "execution_count": 12,
   "metadata": {},
   "outputs": [
    {
     "name": "stdout",
     "output_type": "stream",
     "text": [
      "Unsorted till index 9\n",
      "[10, 5, 7, 2, 8, 3, 9, 6, 1, 4, 11]\n",
      "Unsorted till index 8\n",
      "[5, 7, 2, 8, 3, 9, 6, 1, 4, 10, 11]\n",
      "Unsorted till index 7\n",
      "[5, 2, 7, 3, 8, 6, 1, 4, 9, 10, 11]\n",
      "Unsorted till index 6\n",
      "[2, 5, 3, 7, 6, 1, 4, 8, 9, 10, 11]\n",
      "Unsorted till index 5\n",
      "[2, 3, 5, 6, 1, 4, 7, 8, 9, 10, 11]\n",
      "Unsorted till index 4\n",
      "[2, 3, 5, 1, 4, 6, 7, 8, 9, 10, 11]\n",
      "Unsorted till index 3\n",
      "[2, 3, 1, 4, 5, 6, 7, 8, 9, 10, 11]\n",
      "Unsorted till index 2\n",
      "[2, 1, 3, 4, 5, 6, 7, 8, 9, 10, 11]\n",
      "Unsorted till index 1\n",
      "[1, 2, 3, 4, 5, 6, 7, 8, 9, 10, 11]\n",
      "Unsorted till index 0\n",
      "[1, 2, 3, 4, 5, 6, 7, 8, 9, 10, 11]\n"
     ]
    }
   ],
   "source": [
    "bubble_sort(num_list)"
   ]
  },
  {
   "cell_type": "code",
   "execution_count": 13,
   "metadata": {},
   "outputs": [],
   "source": [
    "animals_list = ['Lion', 'Giraffe', 'Elephant', 'Monkey', 'Cheetah']"
   ]
  },
  {
   "cell_type": "code",
   "execution_count": 14,
   "metadata": {},
   "outputs": [
    {
     "name": "stdout",
     "output_type": "stream",
     "text": [
      "Unsorted till index 3\n",
      "['Giraffe', 'Elephant', 'Lion', 'Cheetah', 'Monkey']\n",
      "Unsorted till index 2\n",
      "['Elephant', 'Giraffe', 'Cheetah', 'Lion', 'Monkey']\n",
      "Unsorted till index 1\n",
      "['Elephant', 'Cheetah', 'Giraffe', 'Lion', 'Monkey']\n",
      "Unsorted till index 0\n",
      "['Cheetah', 'Elephant', 'Giraffe', 'Lion', 'Monkey']\n"
     ]
    }
   ],
   "source": [
    "bubble_sort(animals_list)"
   ]
  },
  {
   "attachments": {},
   "cell_type": "markdown",
   "metadata": {},
   "source": [
    "## Insertion sort"
   ]
  },
  {
   "cell_type": "code",
   "execution_count": 15,
   "metadata": {},
   "outputs": [],
   "source": [
    "def insertion_sort(original_list):\n",
    "    length = len(original_list)\n",
    "    for i in range(0, length - 1):\n",
    "        for j in range(i+1,0, -1):\n",
    "            if original_list[j] < original_list[j-1]:\n",
    "                original_list[j], original_list[j-1] = original_list[j-1], original_list[j]\n",
    "        print('Sorted till index', i)\n",
    "        print_list(original_list)\n",
    "        "
   ]
  },
  {
   "cell_type": "code",
   "execution_count": 16,
   "metadata": {},
   "outputs": [],
   "source": [
    "num_list = [10, 11, 5, 7, 2, 8, 3, 9, 6,1, 4]"
   ]
  },
  {
   "cell_type": "code",
   "execution_count": 17,
   "metadata": {},
   "outputs": [
    {
     "name": "stdout",
     "output_type": "stream",
     "text": [
      "Sorted till index 0\n",
      "[10, 11, 5, 7, 2, 8, 3, 9, 6, 1, 4]\n",
      "Sorted till index 1\n",
      "[5, 10, 11, 7, 2, 8, 3, 9, 6, 1, 4]\n",
      "Sorted till index 2\n",
      "[5, 7, 10, 11, 2, 8, 3, 9, 6, 1, 4]\n",
      "Sorted till index 3\n",
      "[2, 5, 7, 10, 11, 8, 3, 9, 6, 1, 4]\n",
      "Sorted till index 4\n",
      "[2, 5, 7, 8, 10, 11, 3, 9, 6, 1, 4]\n",
      "Sorted till index 5\n",
      "[2, 3, 5, 7, 8, 10, 11, 9, 6, 1, 4]\n",
      "Sorted till index 6\n",
      "[2, 3, 5, 7, 8, 9, 10, 11, 6, 1, 4]\n",
      "Sorted till index 7\n",
      "[2, 3, 5, 6, 7, 8, 9, 10, 11, 1, 4]\n",
      "Sorted till index 8\n",
      "[1, 2, 3, 5, 6, 7, 8, 9, 10, 11, 4]\n",
      "Sorted till index 9\n",
      "[1, 2, 3, 4, 5, 6, 7, 8, 9, 10, 11]\n"
     ]
    }
   ],
   "source": [
    "insertion_sort(num_list)"
   ]
  },
  {
   "cell_type": "code",
   "execution_count": 18,
   "metadata": {},
   "outputs": [],
   "source": [
    "animals_list = ['Lion', 'Giraffe', 'Elephant', 'Monkey', 'Cheetah']"
   ]
  },
  {
   "cell_type": "code",
   "execution_count": 19,
   "metadata": {},
   "outputs": [
    {
     "name": "stdout",
     "output_type": "stream",
     "text": [
      "Sorted till index 0\n",
      "['Giraffe', 'Lion', 'Elephant', 'Monkey', 'Cheetah']\n",
      "Sorted till index 1\n",
      "['Elephant', 'Giraffe', 'Lion', 'Monkey', 'Cheetah']\n",
      "Sorted till index 2\n",
      "['Elephant', 'Giraffe', 'Lion', 'Monkey', 'Cheetah']\n",
      "Sorted till index 3\n",
      "['Cheetah', 'Elephant', 'Giraffe', 'Lion', 'Monkey']\n"
     ]
    }
   ],
   "source": [
    "insertion_sort(animals_list)"
   ]
  },
  {
   "attachments": {},
   "cell_type": "markdown",
   "metadata": {},
   "source": [
    "## Shell sort"
   ]
  },
  {
   "cell_type": "code",
   "execution_count": 20,
   "metadata": {},
   "outputs": [],
   "source": [
    "def shell_sort(original_list):\n",
    "    length = len(original_list)\n",
    "    gap = length // 2\n",
    "    while gap > 0:\n",
    "        for i in range(gap, length):\n",
    "            temp = original_list[i]\n",
    "            j = i\n",
    "            while j >= gap and original_list[j-gap] > temp:\n",
    "                original_list[j] = original_list[j-gap]\n",
    "                j -= gap\n",
    "            original_list[j] = temp\n",
    "            print('Gap:', gap)\n",
    "            print_list(original_list)\n",
    "        gap //= 2\n",
    "        "
   ]
  },
  {
   "cell_type": "code",
   "execution_count": 21,
   "metadata": {},
   "outputs": [],
   "source": [
    "num_list = [10, 11, 5, 7, 2, 8, 3, 9, 6,1, 4]"
   ]
  },
  {
   "cell_type": "code",
   "execution_count": 22,
   "metadata": {},
   "outputs": [
    {
     "name": "stdout",
     "output_type": "stream",
     "text": [
      "Gap: 5\n",
      "[8, 11, 5, 7, 2, 10, 3, 9, 6, 1, 4]\n",
      "Gap: 5\n",
      "[8, 3, 5, 7, 2, 10, 11, 9, 6, 1, 4]\n",
      "Gap: 5\n",
      "[8, 3, 5, 7, 2, 10, 11, 9, 6, 1, 4]\n",
      "Gap: 5\n",
      "[8, 3, 5, 6, 2, 10, 11, 9, 7, 1, 4]\n",
      "Gap: 5\n",
      "[8, 3, 5, 6, 1, 10, 11, 9, 7, 2, 4]\n",
      "Gap: 5\n",
      "[4, 3, 5, 6, 1, 8, 11, 9, 7, 2, 10]\n",
      "Gap: 2\n",
      "[4, 3, 5, 6, 1, 8, 11, 9, 7, 2, 10]\n",
      "Gap: 2\n",
      "[4, 3, 5, 6, 1, 8, 11, 9, 7, 2, 10]\n",
      "Gap: 2\n",
      "[1, 3, 4, 6, 5, 8, 11, 9, 7, 2, 10]\n",
      "Gap: 2\n",
      "[1, 3, 4, 6, 5, 8, 11, 9, 7, 2, 10]\n",
      "Gap: 2\n",
      "[1, 3, 4, 6, 5, 8, 11, 9, 7, 2, 10]\n",
      "Gap: 2\n",
      "[1, 3, 4, 6, 5, 8, 11, 9, 7, 2, 10]\n",
      "Gap: 2\n",
      "[1, 3, 4, 6, 5, 8, 7, 9, 11, 2, 10]\n",
      "Gap: 2\n",
      "[1, 2, 4, 3, 5, 6, 7, 8, 11, 9, 10]\n",
      "Gap: 2\n",
      "[1, 2, 4, 3, 5, 6, 7, 8, 10, 9, 11]\n",
      "Gap: 1\n",
      "[1, 2, 4, 3, 5, 6, 7, 8, 10, 9, 11]\n",
      "Gap: 1\n",
      "[1, 2, 4, 3, 5, 6, 7, 8, 10, 9, 11]\n",
      "Gap: 1\n",
      "[1, 2, 3, 4, 5, 6, 7, 8, 10, 9, 11]\n",
      "Gap: 1\n",
      "[1, 2, 3, 4, 5, 6, 7, 8, 10, 9, 11]\n",
      "Gap: 1\n",
      "[1, 2, 3, 4, 5, 6, 7, 8, 10, 9, 11]\n",
      "Gap: 1\n",
      "[1, 2, 3, 4, 5, 6, 7, 8, 10, 9, 11]\n",
      "Gap: 1\n",
      "[1, 2, 3, 4, 5, 6, 7, 8, 10, 9, 11]\n",
      "Gap: 1\n",
      "[1, 2, 3, 4, 5, 6, 7, 8, 10, 9, 11]\n",
      "Gap: 1\n",
      "[1, 2, 3, 4, 5, 6, 7, 8, 9, 10, 11]\n",
      "Gap: 1\n",
      "[1, 2, 3, 4, 5, 6, 7, 8, 9, 10, 11]\n"
     ]
    }
   ],
   "source": [
    "shell_sort(num_list)"
   ]
  },
  {
   "cell_type": "code",
   "execution_count": 23,
   "metadata": {},
   "outputs": [],
   "source": [
    "animals_list = ['Lion', 'Giraffe', 'Elephant', 'Monkey', 'Cheetah']"
   ]
  },
  {
   "cell_type": "code",
   "execution_count": 25,
   "metadata": {},
   "outputs": [
    {
     "name": "stdout",
     "output_type": "stream",
     "text": [
      "Gap: 2\n",
      "['Elephant', 'Giraffe', 'Lion', 'Monkey', 'Cheetah']\n",
      "Gap: 2\n",
      "['Elephant', 'Giraffe', 'Lion', 'Monkey', 'Cheetah']\n",
      "Gap: 2\n",
      "['Cheetah', 'Giraffe', 'Elephant', 'Monkey', 'Lion']\n",
      "Gap: 1\n",
      "['Cheetah', 'Giraffe', 'Elephant', 'Monkey', 'Lion']\n",
      "Gap: 1\n",
      "['Cheetah', 'Elephant', 'Giraffe', 'Monkey', 'Lion']\n",
      "Gap: 1\n",
      "['Cheetah', 'Elephant', 'Giraffe', 'Monkey', 'Lion']\n",
      "Gap: 1\n",
      "['Cheetah', 'Elephant', 'Giraffe', 'Lion', 'Monkey']\n"
     ]
    }
   ],
   "source": [
    "shell_sort(animals_list)"
   ]
  },
  {
   "attachments": {},
   "cell_type": "markdown",
   "metadata": {},
   "source": [
    "## merge sort"
   ]
  },
  {
   "cell_type": "code",
   "execution_count": 26,
   "metadata": {},
   "outputs": [],
   "source": [
    "def merge_sort(original_list):\n",
    "    if len(original_list) > 1:\n",
    "        mid = len(original_list) // 2\n",
    "        left = original_list[:mid]\n",
    "        right = original_list[mid:]\n",
    "        \n",
    "        merge_sort(left)\n",
    "        print_list(left)\n",
    "        merge_sort(right)\n",
    "        print_list(right)\n",
    "        \n",
    "        i = j = k = 0\n",
    "        \n",
    "        while i < len(left) and j < len(right):\n",
    "            if left[i] < right[j]:\n",
    "                original_list[k] = left[i]\n",
    "                i += 1\n",
    "            else:\n",
    "                original_list[k] = right[j]\n",
    "                j += 1\n",
    "            k += 1\n",
    "            \n",
    "        while i < len(left):\n",
    "            original_list[k] = left[i]\n",
    "            i += 1\n",
    "            k += 1\n",
    "            \n",
    "        while j < len(right):\n",
    "            original_list[k] = right[j]\n",
    "            j += 1\n",
    "            k += 1\n",
    "        print('Merged list:')\n",
    "        print_list(original_list)"
   ]
  },
  {
   "cell_type": "code",
   "execution_count": 27,
   "metadata": {},
   "outputs": [],
   "source": [
    "num_list = [10, 11, 5, 7, 2, 8, 3, 9, 6,1, 4]"
   ]
  },
  {
   "cell_type": "code",
   "execution_count": 28,
   "metadata": {},
   "outputs": [
    {
     "name": "stdout",
     "output_type": "stream",
     "text": [
      "[10]\n",
      "[11]\n",
      "Merged list:\n",
      "[10, 11]\n",
      "[10, 11]\n",
      "[5]\n",
      "[7]\n",
      "[2]\n",
      "Merged list:\n",
      "[2, 7]\n",
      "[2, 7]\n",
      "Merged list:\n",
      "[2, 5, 7]\n",
      "[2, 5, 7]\n",
      "Merged list:\n",
      "[2, 5, 7, 10, 11]\n",
      "[2, 5, 7, 10, 11]\n",
      "[8]\n",
      "[3]\n",
      "[9]\n",
      "Merged list:\n",
      "[3, 9]\n",
      "[3, 9]\n",
      "Merged list:\n",
      "[3, 8, 9]\n",
      "[3, 8, 9]\n",
      "[6]\n",
      "[1]\n",
      "[4]\n",
      "Merged list:\n",
      "[1, 4]\n",
      "[1, 4]\n",
      "Merged list:\n",
      "[1, 4, 6]\n",
      "[1, 4, 6]\n",
      "Merged list:\n",
      "[1, 3, 4, 6, 8, 9]\n",
      "[1, 3, 4, 6, 8, 9]\n",
      "Merged list:\n",
      "[1, 2, 3, 4, 5, 6, 7, 8, 9, 10, 11]\n"
     ]
    }
   ],
   "source": [
    "merge_sort(num_list)"
   ]
  },
  {
   "cell_type": "code",
   "execution_count": 29,
   "metadata": {},
   "outputs": [],
   "source": [
    "animals_list = ['Lion', 'Giraffe', 'Elephant', 'Monkey', 'Cheetah']"
   ]
  },
  {
   "cell_type": "code",
   "execution_count": 30,
   "metadata": {},
   "outputs": [
    {
     "name": "stdout",
     "output_type": "stream",
     "text": [
      "['Lion']\n",
      "['Giraffe']\n",
      "Merged list:\n",
      "['Giraffe', 'Lion']\n",
      "['Giraffe', 'Lion']\n",
      "['Elephant']\n",
      "['Monkey']\n",
      "['Cheetah']\n",
      "Merged list:\n",
      "['Cheetah', 'Monkey']\n",
      "['Cheetah', 'Monkey']\n",
      "Merged list:\n",
      "['Cheetah', 'Elephant', 'Monkey']\n",
      "['Cheetah', 'Elephant', 'Monkey']\n",
      "Merged list:\n",
      "['Cheetah', 'Elephant', 'Giraffe', 'Lion', 'Monkey']\n"
     ]
    }
   ],
   "source": [
    "merge_sort(animals_list)"
   ]
  },
  {
   "attachments": {},
   "cell_type": "markdown",
   "metadata": {},
   "source": [
    "## Quick sort"
   ]
  },
  {
   "cell_type": "code",
   "execution_count": 31,
   "metadata": {},
   "outputs": [],
   "source": [
    "def parttion(original_list, start_index, end_index):\n",
    "    curr_index = start_index\n",
    "    pivot = original_list[end_index]\n",
    "    \n",
    "    for i in range(start_index, end_index):\n",
    "        if original_list[i] <= pivot:\n",
    "            original_list[curr_index], original_list[i] = original_list[i], original_list[curr_index]\n",
    "            curr_index += 1\n",
    "    original_list[curr_index], original_list[end_index] = original_list[end_index], original_list[curr_index]\n",
    "    \n",
    "    return curr_index"
   ]
  },
  {
   "cell_type": "code",
   "execution_count": 32,
   "metadata": {},
   "outputs": [],
   "source": [
    "def quick_sort(original_list, start_index, end_index):\n",
    "    if start_index >= end_index:\n",
    "        return\n",
    "    \n",
    "    pi = parttion(original_list, start_index, end_index)\n",
    "    print('Element in the right place: ', original_list[pi])\n",
    "    print_list(original_list)\n",
    "    quick_sort(original_list, start_index, pi-1)\n",
    "    quick_sort(original_list, pi+1, end_index)"
   ]
  },
  {
   "cell_type": "code",
   "execution_count": 33,
   "metadata": {},
   "outputs": [],
   "source": [
    "num_list = [10, 11, 5, 7, 2, 8, 3, 9, 6,1, 4]"
   ]
  },
  {
   "cell_type": "code",
   "execution_count": 34,
   "metadata": {},
   "outputs": [
    {
     "name": "stdout",
     "output_type": "stream",
     "text": [
      "Element in the right place:  4\n",
      "[2, 3, 1, 4, 10, 8, 11, 9, 6, 5, 7]\n",
      "Element in the right place:  1\n",
      "[1, 3, 2, 4, 10, 8, 11, 9, 6, 5, 7]\n",
      "Element in the right place:  2\n",
      "[1, 2, 3, 4, 10, 8, 11, 9, 6, 5, 7]\n",
      "Element in the right place:  7\n",
      "[1, 2, 3, 4, 6, 5, 7, 9, 10, 8, 11]\n",
      "Element in the right place:  5\n",
      "[1, 2, 3, 4, 5, 6, 7, 9, 10, 8, 11]\n",
      "Element in the right place:  11\n",
      "[1, 2, 3, 4, 5, 6, 7, 9, 10, 8, 11]\n",
      "Element in the right place:  8\n",
      "[1, 2, 3, 4, 5, 6, 7, 8, 10, 9, 11]\n",
      "Element in the right place:  9\n",
      "[1, 2, 3, 4, 5, 6, 7, 8, 9, 10, 11]\n"
     ]
    }
   ],
   "source": [
    "quick_sort(num_list, 0, len(num_list)-1)"
   ]
  },
  {
   "cell_type": "code",
   "execution_count": 36,
   "metadata": {},
   "outputs": [],
   "source": [
    "animals_list = ['Lion', 'Giraffe', 'Elephant', 'Monkey', 'Cheetah']"
   ]
  },
  {
   "cell_type": "code",
   "execution_count": 37,
   "metadata": {},
   "outputs": [
    {
     "name": "stdout",
     "output_type": "stream",
     "text": [
      "Element in the right place:  Cheetah\n",
      "['Cheetah', 'Giraffe', 'Elephant', 'Monkey', 'Lion']\n",
      "Element in the right place:  Lion\n",
      "['Cheetah', 'Giraffe', 'Elephant', 'Lion', 'Monkey']\n",
      "Element in the right place:  Elephant\n",
      "['Cheetah', 'Elephant', 'Giraffe', 'Lion', 'Monkey']\n"
     ]
    }
   ],
   "source": [
    "quick_sort(animals_list, 0, len(animals_list)-1)"
   ]
  }
 ],
 "metadata": {
  "kernelspec": {
   "display_name": "base",
   "language": "python",
   "name": "python3"
  },
  "language_info": {
   "codemirror_mode": {
    "name": "ipython",
    "version": 3
   },
   "file_extension": ".py",
   "mimetype": "text/x-python",
   "name": "python",
   "nbconvert_exporter": "python",
   "pygments_lexer": "ipython3",
   "version": "3.9.12 (main, Apr  5 2022, 06:56:58) \n[GCC 7.5.0]"
  },
  "orig_nbformat": 4,
  "vscode": {
   "interpreter": {
    "hash": "fa627aa95c5d5ded4bce5b588d305c10ec2c037f4acd23721bb5551ecd30bdd8"
   }
  }
 },
 "nbformat": 4,
 "nbformat_minor": 2
}
