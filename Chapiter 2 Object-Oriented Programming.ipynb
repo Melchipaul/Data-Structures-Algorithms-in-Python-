{
 "cells": [
  {
   "cell_type": "code",
   "execution_count": null,
   "metadata": {},
   "outputs": [],
   "source": [
    "class Flower:\n",
    "    def __init__(self, name, petals, price):\n",
    "        self.name = name\n",
    "        self.petals = petals\n",
    "        self.price = price\n",
    "    def set_name(self, name):\n",
    "        self.name = name\n",
    "    def set_petals(self, petals):\n",
    "        self.petals = petals\n",
    "    def set_price(self, price):\n",
    "        self.price = price\n",
    "    def get_name(self):\n",
    "        return self.name\n",
    "    def get_petals(self):\n",
    "        return self.petals\n",
    "    def get_price(self):\n",
    "        return self.price\n",
    "    def discount(self, percent):\n",
    "        self.price = self.price * (1 - percent)"
   ]
  }
 ],
 "metadata": {
  "kernelspec": {
   "display_name": "Python 3",
   "language": "python",
   "name": "python3"
  },
  "language_info": {
   "name": "python",
   "version": "3.8.10 (default, Mar 15 2022, 12:22:08) \n[GCC 9.4.0]"
  },
  "orig_nbformat": 4,
  "vscode": {
   "interpreter": {
    "hash": "916dbcbb3f70747c44a77c7bcd40155683ae19c65e1c03b4aa3499c5328201f1"
   }
  }
 },
 "nbformat": 4,
 "nbformat_minor": 2
}
