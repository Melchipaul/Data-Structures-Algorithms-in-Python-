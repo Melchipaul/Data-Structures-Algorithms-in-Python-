{
 "cells": [
  {
   "attachments": {},
   "cell_type": "markdown",
   "metadata": {},
   "source": [
    "## Du son aux mots"
   ]
  },
  {
   "cell_type": "code",
   "execution_count": null,
   "metadata": {},
   "outputs": [],
   "source": [
    "import sys\n",
    "\n",
    "lines = []\n",
    "for line in sys.stdin:\n",
    "    lines.append(line.rstrip('\\n'))\n",
    "\n",
    "clavier = {\n",
    "    \"1\":\"a\",\n",
    "    \"11\":\"b\",\n",
    "    \"111\":\"c\",\n",
    "    \"2\":\"d\",\n",
    "    \"22\":\"e\",\n",
    "    \"222\":\"f\",\n",
    "    \"3\":\"g\",\n",
    "    \"33\":\"h\",\n",
    "    \"333\":\"i\",\n",
    "    \"4\":\"j\",\n",
    "    \"44\":\"k\",\n",
    "    \"444\":\"l\",\n",
    "    \"5\":\"m\",\n",
    "    \"55\":\"n\",\n",
    "    \"555\":\"o\",\n",
    "    \"6\":\"p\",\n",
    "    \"66\":\"q\",\n",
    "    \"666\":\"r\",\n",
    "    \"7\":\"s\",\n",
    "    \"77\":\"t\",\n",
    "    \"777\":\"u\",\n",
    "    \"7777\":\"v\",\n",
    "    \"8\":\"w\",\n",
    "    \"88\":\"x\",\n",
    "    \"888\":\"y\",\n",
    "    \"9\":\"z\",\n",
    "    \"0\":\" \"\n",
    "}\n",
    "\n",
    "message = lines[0].split()\n",
    "decodage = \"\"\n",
    "for lettre in message:\n",
    "    decodage += clavier[lettre]\n",
    "print(decodage)\n"
   ]
  },
  {
   "attachments": {},
   "cell_type": "markdown",
   "metadata": {},
   "source": [
    "## Eco-planification"
   ]
  },
  {
   "cell_type": "code",
   "execution_count": null,
   "metadata": {},
   "outputs": [],
   "source": [
    "import sys\n",
    "\n",
    "lines = []\n",
    "for line in sys.stdin:\n",
    "    lines.append(line.rstrip('\\n'))\n",
    "n = int(lines[0])\n",
    "trajs = []\n",
    "for i in range(1, n+1):\n",
    "    try:\n",
    "        a,b,c = lines[i].split()\n",
    "    except:\n",
    "        print(lines[0], len(lines), lines)\n",
    "    trajs.append((a,b,int(c)))\n",
    "ba = float('inf')\n",
    "best = float('inf')\n",
    "trajs.sort()\n",
    "for start, direction, footprint in trajs:\n",
    "    if direction == 'Paris-Lyon':\n",
    "        ba = min(ba, footprint)\n",
    "    else:\n",
    "        best = min(best, ba+footprint)\n",
    "print(best)\n",
    "    \n",
    " "
   ]
  }
 ],
 "metadata": {
  "kernelspec": {
   "display_name": "base",
   "language": "python",
   "name": "python3"
  },
  "language_info": {
   "name": "python",
   "version": "3.9.12 (main, Apr  5 2022, 06:56:58) \n[GCC 7.5.0]"
  },
  "orig_nbformat": 4,
  "vscode": {
   "interpreter": {
    "hash": "fa627aa95c5d5ded4bce5b588d305c10ec2c037f4acd23721bb5551ecd30bdd8"
   }
  }
 },
 "nbformat": 4,
 "nbformat_minor": 2
}
